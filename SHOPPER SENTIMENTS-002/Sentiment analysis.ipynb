{
 "cells": [
  {
   "cell_type": "markdown",
   "id": "15280f61-e333-466c-9eed-bfdafe461cf3",
   "metadata": {},
   "source": [
    "## Step 1: Data Loading"
   ]
  },
  {
   "cell_type": "code",
   "execution_count": 1,
   "id": "d766ee5f-3b9d-4000-9339-e56ee6c777ac",
   "metadata": {},
   "outputs": [],
   "source": [
    "# import necessary libraries\n",
    "import pandas as pd\n",
    "import chardet\n",
    "import re\n",
    "import numpy as np\n",
    "import matplotlib.pyplot as plt\n",
    "import plotly.express as px\n"
   ]
  },
  {
   "cell_type": "code",
   "execution_count": 2,
   "id": "2a5446f6-3f0a-4aa2-bd2f-3192d52ed1f4",
   "metadata": {},
   "outputs": [
    {
     "ename": "FileNotFoundError",
     "evalue": "[Errno 2] No such file or directory: 'TeePublic_review.csv'",
     "output_type": "error",
     "traceback": [
      "\u001b[1;31m---------------------------------------------------------------------------\u001b[0m",
      "\u001b[1;31mFileNotFoundError\u001b[0m                         Traceback (most recent call last)",
      "Cell \u001b[1;32mIn[2], line 6\u001b[0m\n\u001b[0;32m      4\u001b[0m \u001b[38;5;28;01mfor\u001b[39;00m encoding \u001b[38;5;129;01min\u001b[39;00m encodings:\n\u001b[0;32m      5\u001b[0m     \u001b[38;5;28;01mtry\u001b[39;00m:\n\u001b[1;32m----> 6\u001b[0m         df \u001b[38;5;241m=\u001b[39m pd\u001b[38;5;241m.\u001b[39mread_csv(\u001b[38;5;124mr\u001b[39m\u001b[38;5;124m\"\u001b[39m\u001b[38;5;124mTeePublic_review.csv\u001b[39m\u001b[38;5;124m\"\u001b[39m, encoding\u001b[38;5;241m=\u001b[39mencoding)\n\u001b[0;32m      7\u001b[0m         \u001b[38;5;28mprint\u001b[39m(\u001b[38;5;124mf\u001b[39m\u001b[38;5;124m\"\u001b[39m\u001b[38;5;124mSuccessfully read the CSV with encoding: \u001b[39m\u001b[38;5;132;01m{\u001b[39;00mencoding\u001b[38;5;132;01m}\u001b[39;00m\u001b[38;5;124m\"\u001b[39m)\n\u001b[0;32m      8\u001b[0m         \u001b[38;5;28;01mbreak\u001b[39;00m\n",
      "File \u001b[1;32m~\\anaconda3\\Lib\\site-packages\\pandas\\util\\_decorators.py:211\u001b[0m, in \u001b[0;36mdeprecate_kwarg.<locals>._deprecate_kwarg.<locals>.wrapper\u001b[1;34m(*args, **kwargs)\u001b[0m\n\u001b[0;32m    209\u001b[0m     \u001b[38;5;28;01melse\u001b[39;00m:\n\u001b[0;32m    210\u001b[0m         kwargs[new_arg_name] \u001b[38;5;241m=\u001b[39m new_arg_value\n\u001b[1;32m--> 211\u001b[0m \u001b[38;5;28;01mreturn\u001b[39;00m func(\u001b[38;5;241m*\u001b[39margs, \u001b[38;5;241m*\u001b[39m\u001b[38;5;241m*\u001b[39mkwargs)\n",
      "File \u001b[1;32m~\\anaconda3\\Lib\\site-packages\\pandas\\util\\_decorators.py:331\u001b[0m, in \u001b[0;36mdeprecate_nonkeyword_arguments.<locals>.decorate.<locals>.wrapper\u001b[1;34m(*args, **kwargs)\u001b[0m\n\u001b[0;32m    325\u001b[0m \u001b[38;5;28;01mif\u001b[39;00m \u001b[38;5;28mlen\u001b[39m(args) \u001b[38;5;241m>\u001b[39m num_allow_args:\n\u001b[0;32m    326\u001b[0m     warnings\u001b[38;5;241m.\u001b[39mwarn(\n\u001b[0;32m    327\u001b[0m         msg\u001b[38;5;241m.\u001b[39mformat(arguments\u001b[38;5;241m=\u001b[39m_format_argument_list(allow_args)),\n\u001b[0;32m    328\u001b[0m         \u001b[38;5;167;01mFutureWarning\u001b[39;00m,\n\u001b[0;32m    329\u001b[0m         stacklevel\u001b[38;5;241m=\u001b[39mfind_stack_level(),\n\u001b[0;32m    330\u001b[0m     )\n\u001b[1;32m--> 331\u001b[0m \u001b[38;5;28;01mreturn\u001b[39;00m func(\u001b[38;5;241m*\u001b[39margs, \u001b[38;5;241m*\u001b[39m\u001b[38;5;241m*\u001b[39mkwargs)\n",
      "File \u001b[1;32m~\\anaconda3\\Lib\\site-packages\\pandas\\io\\parsers\\readers.py:950\u001b[0m, in \u001b[0;36mread_csv\u001b[1;34m(filepath_or_buffer, sep, delimiter, header, names, index_col, usecols, squeeze, prefix, mangle_dupe_cols, dtype, engine, converters, true_values, false_values, skipinitialspace, skiprows, skipfooter, nrows, na_values, keep_default_na, na_filter, verbose, skip_blank_lines, parse_dates, infer_datetime_format, keep_date_col, date_parser, dayfirst, cache_dates, iterator, chunksize, compression, thousands, decimal, lineterminator, quotechar, quoting, doublequote, escapechar, comment, encoding, encoding_errors, dialect, error_bad_lines, warn_bad_lines, on_bad_lines, delim_whitespace, low_memory, memory_map, float_precision, storage_options)\u001b[0m\n\u001b[0;32m    935\u001b[0m kwds_defaults \u001b[38;5;241m=\u001b[39m _refine_defaults_read(\n\u001b[0;32m    936\u001b[0m     dialect,\n\u001b[0;32m    937\u001b[0m     delimiter,\n\u001b[1;32m   (...)\u001b[0m\n\u001b[0;32m    946\u001b[0m     defaults\u001b[38;5;241m=\u001b[39m{\u001b[38;5;124m\"\u001b[39m\u001b[38;5;124mdelimiter\u001b[39m\u001b[38;5;124m\"\u001b[39m: \u001b[38;5;124m\"\u001b[39m\u001b[38;5;124m,\u001b[39m\u001b[38;5;124m\"\u001b[39m},\n\u001b[0;32m    947\u001b[0m )\n\u001b[0;32m    948\u001b[0m kwds\u001b[38;5;241m.\u001b[39mupdate(kwds_defaults)\n\u001b[1;32m--> 950\u001b[0m \u001b[38;5;28;01mreturn\u001b[39;00m _read(filepath_or_buffer, kwds)\n",
      "File \u001b[1;32m~\\anaconda3\\Lib\\site-packages\\pandas\\io\\parsers\\readers.py:605\u001b[0m, in \u001b[0;36m_read\u001b[1;34m(filepath_or_buffer, kwds)\u001b[0m\n\u001b[0;32m    602\u001b[0m _validate_names(kwds\u001b[38;5;241m.\u001b[39mget(\u001b[38;5;124m\"\u001b[39m\u001b[38;5;124mnames\u001b[39m\u001b[38;5;124m\"\u001b[39m, \u001b[38;5;28;01mNone\u001b[39;00m))\n\u001b[0;32m    604\u001b[0m \u001b[38;5;66;03m# Create the parser.\u001b[39;00m\n\u001b[1;32m--> 605\u001b[0m parser \u001b[38;5;241m=\u001b[39m TextFileReader(filepath_or_buffer, \u001b[38;5;241m*\u001b[39m\u001b[38;5;241m*\u001b[39mkwds)\n\u001b[0;32m    607\u001b[0m \u001b[38;5;28;01mif\u001b[39;00m chunksize \u001b[38;5;129;01mor\u001b[39;00m iterator:\n\u001b[0;32m    608\u001b[0m     \u001b[38;5;28;01mreturn\u001b[39;00m parser\n",
      "File \u001b[1;32m~\\anaconda3\\Lib\\site-packages\\pandas\\io\\parsers\\readers.py:1442\u001b[0m, in \u001b[0;36mTextFileReader.__init__\u001b[1;34m(self, f, engine, **kwds)\u001b[0m\n\u001b[0;32m   1439\u001b[0m     \u001b[38;5;28mself\u001b[39m\u001b[38;5;241m.\u001b[39moptions[\u001b[38;5;124m\"\u001b[39m\u001b[38;5;124mhas_index_names\u001b[39m\u001b[38;5;124m\"\u001b[39m] \u001b[38;5;241m=\u001b[39m kwds[\u001b[38;5;124m\"\u001b[39m\u001b[38;5;124mhas_index_names\u001b[39m\u001b[38;5;124m\"\u001b[39m]\n\u001b[0;32m   1441\u001b[0m \u001b[38;5;28mself\u001b[39m\u001b[38;5;241m.\u001b[39mhandles: IOHandles \u001b[38;5;241m|\u001b[39m \u001b[38;5;28;01mNone\u001b[39;00m \u001b[38;5;241m=\u001b[39m \u001b[38;5;28;01mNone\u001b[39;00m\n\u001b[1;32m-> 1442\u001b[0m \u001b[38;5;28mself\u001b[39m\u001b[38;5;241m.\u001b[39m_engine \u001b[38;5;241m=\u001b[39m \u001b[38;5;28mself\u001b[39m\u001b[38;5;241m.\u001b[39m_make_engine(f, \u001b[38;5;28mself\u001b[39m\u001b[38;5;241m.\u001b[39mengine)\n",
      "File \u001b[1;32m~\\anaconda3\\Lib\\site-packages\\pandas\\io\\parsers\\readers.py:1735\u001b[0m, in \u001b[0;36mTextFileReader._make_engine\u001b[1;34m(self, f, engine)\u001b[0m\n\u001b[0;32m   1733\u001b[0m     \u001b[38;5;28;01mif\u001b[39;00m \u001b[38;5;124m\"\u001b[39m\u001b[38;5;124mb\u001b[39m\u001b[38;5;124m\"\u001b[39m \u001b[38;5;129;01mnot\u001b[39;00m \u001b[38;5;129;01min\u001b[39;00m mode:\n\u001b[0;32m   1734\u001b[0m         mode \u001b[38;5;241m+\u001b[39m\u001b[38;5;241m=\u001b[39m \u001b[38;5;124m\"\u001b[39m\u001b[38;5;124mb\u001b[39m\u001b[38;5;124m\"\u001b[39m\n\u001b[1;32m-> 1735\u001b[0m \u001b[38;5;28mself\u001b[39m\u001b[38;5;241m.\u001b[39mhandles \u001b[38;5;241m=\u001b[39m get_handle(\n\u001b[0;32m   1736\u001b[0m     f,\n\u001b[0;32m   1737\u001b[0m     mode,\n\u001b[0;32m   1738\u001b[0m     encoding\u001b[38;5;241m=\u001b[39m\u001b[38;5;28mself\u001b[39m\u001b[38;5;241m.\u001b[39moptions\u001b[38;5;241m.\u001b[39mget(\u001b[38;5;124m\"\u001b[39m\u001b[38;5;124mencoding\u001b[39m\u001b[38;5;124m\"\u001b[39m, \u001b[38;5;28;01mNone\u001b[39;00m),\n\u001b[0;32m   1739\u001b[0m     compression\u001b[38;5;241m=\u001b[39m\u001b[38;5;28mself\u001b[39m\u001b[38;5;241m.\u001b[39moptions\u001b[38;5;241m.\u001b[39mget(\u001b[38;5;124m\"\u001b[39m\u001b[38;5;124mcompression\u001b[39m\u001b[38;5;124m\"\u001b[39m, \u001b[38;5;28;01mNone\u001b[39;00m),\n\u001b[0;32m   1740\u001b[0m     memory_map\u001b[38;5;241m=\u001b[39m\u001b[38;5;28mself\u001b[39m\u001b[38;5;241m.\u001b[39moptions\u001b[38;5;241m.\u001b[39mget(\u001b[38;5;124m\"\u001b[39m\u001b[38;5;124mmemory_map\u001b[39m\u001b[38;5;124m\"\u001b[39m, \u001b[38;5;28;01mFalse\u001b[39;00m),\n\u001b[0;32m   1741\u001b[0m     is_text\u001b[38;5;241m=\u001b[39mis_text,\n\u001b[0;32m   1742\u001b[0m     errors\u001b[38;5;241m=\u001b[39m\u001b[38;5;28mself\u001b[39m\u001b[38;5;241m.\u001b[39moptions\u001b[38;5;241m.\u001b[39mget(\u001b[38;5;124m\"\u001b[39m\u001b[38;5;124mencoding_errors\u001b[39m\u001b[38;5;124m\"\u001b[39m, \u001b[38;5;124m\"\u001b[39m\u001b[38;5;124mstrict\u001b[39m\u001b[38;5;124m\"\u001b[39m),\n\u001b[0;32m   1743\u001b[0m     storage_options\u001b[38;5;241m=\u001b[39m\u001b[38;5;28mself\u001b[39m\u001b[38;5;241m.\u001b[39moptions\u001b[38;5;241m.\u001b[39mget(\u001b[38;5;124m\"\u001b[39m\u001b[38;5;124mstorage_options\u001b[39m\u001b[38;5;124m\"\u001b[39m, \u001b[38;5;28;01mNone\u001b[39;00m),\n\u001b[0;32m   1744\u001b[0m )\n\u001b[0;32m   1745\u001b[0m \u001b[38;5;28;01massert\u001b[39;00m \u001b[38;5;28mself\u001b[39m\u001b[38;5;241m.\u001b[39mhandles \u001b[38;5;129;01mis\u001b[39;00m \u001b[38;5;129;01mnot\u001b[39;00m \u001b[38;5;28;01mNone\u001b[39;00m\n\u001b[0;32m   1746\u001b[0m f \u001b[38;5;241m=\u001b[39m \u001b[38;5;28mself\u001b[39m\u001b[38;5;241m.\u001b[39mhandles\u001b[38;5;241m.\u001b[39mhandle\n",
      "File \u001b[1;32m~\\anaconda3\\Lib\\site-packages\\pandas\\io\\common.py:865\u001b[0m, in \u001b[0;36mget_handle\u001b[1;34m(path_or_buf, mode, encoding, compression, memory_map, is_text, errors, storage_options)\u001b[0m\n\u001b[0;32m    856\u001b[0m         handle \u001b[38;5;241m=\u001b[39m \u001b[38;5;28mopen\u001b[39m(\n\u001b[0;32m    857\u001b[0m             handle,\n\u001b[0;32m    858\u001b[0m             ioargs\u001b[38;5;241m.\u001b[39mmode,\n\u001b[1;32m   (...)\u001b[0m\n\u001b[0;32m    861\u001b[0m             newline\u001b[38;5;241m=\u001b[39m\u001b[38;5;124m\"\u001b[39m\u001b[38;5;124m\"\u001b[39m,\n\u001b[0;32m    862\u001b[0m         )\n\u001b[0;32m    863\u001b[0m     \u001b[38;5;28;01melse\u001b[39;00m:\n\u001b[0;32m    864\u001b[0m         \u001b[38;5;66;03m# Binary mode\u001b[39;00m\n\u001b[1;32m--> 865\u001b[0m         handle \u001b[38;5;241m=\u001b[39m \u001b[38;5;28mopen\u001b[39m(handle, ioargs\u001b[38;5;241m.\u001b[39mmode)\n\u001b[0;32m    866\u001b[0m     handles\u001b[38;5;241m.\u001b[39mappend(handle)\n\u001b[0;32m    868\u001b[0m \u001b[38;5;66;03m# Convert BytesIO or file objects passed with an encoding\u001b[39;00m\n",
      "\u001b[1;31mFileNotFoundError\u001b[0m: [Errno 2] No such file or directory: 'TeePublic_review.csv'"
     ]
    }
   ],
   "source": [
    "# Try reading the CSV with different encodings\n",
    "encodings = ['utf-8', 'latin1', 'iso-8859-1', 'cp1252']\n",
    "\n",
    "for encoding in encodings:\n",
    "    try:\n",
    "        df = pd.read_csv(r\"TeePublic_review.csv\", encoding=encoding)\n",
    "        print(f\"Successfully read the CSV with encoding: {encoding}\")\n",
    "        break\n",
    "    except UnicodeDecodeError:\n",
    "        print(f\"Failed to read the CSV with encoding: {encoding}\")\n",
    "        "
   ]
  },
  {
   "cell_type": "code",
   "execution_count": 83,
   "id": "d7446632-b478-4966-b76e-24c700fdac3b",
   "metadata": {},
   "outputs": [
    {
     "data": {
      "text/html": [
       "<div>\n",
       "<style scoped>\n",
       "    .dataframe tbody tr th:only-of-type {\n",
       "        vertical-align: middle;\n",
       "    }\n",
       "\n",
       "    .dataframe tbody tr th {\n",
       "        vertical-align: top;\n",
       "    }\n",
       "\n",
       "    .dataframe thead th {\n",
       "        text-align: right;\n",
       "    }\n",
       "</style>\n",
       "<table border=\"1\" class=\"dataframe\">\n",
       "  <thead>\n",
       "    <tr style=\"text-align: right;\">\n",
       "      <th></th>\n",
       "      <th>reviewer_id</th>\n",
       "      <th>store_location</th>\n",
       "      <th>latitude</th>\n",
       "      <th>longitude</th>\n",
       "      <th>date</th>\n",
       "      <th>month</th>\n",
       "      <th>year</th>\n",
       "      <th>title</th>\n",
       "      <th>review</th>\n",
       "      <th>review-label</th>\n",
       "    </tr>\n",
       "  </thead>\n",
       "  <tbody>\n",
       "    <tr>\n",
       "      <th>0</th>\n",
       "      <td>0.0</td>\n",
       "      <td>US</td>\n",
       "      <td>37.090240</td>\n",
       "      <td>-95.712891</td>\n",
       "      <td>2023</td>\n",
       "      <td>6</td>\n",
       "      <td>2015 00:00:00</td>\n",
       "      <td>Great help with lost order</td>\n",
       "      <td>I had an order that was lost in transit. When ...</td>\n",
       "      <td>5</td>\n",
       "    </tr>\n",
       "    <tr>\n",
       "      <th>1</th>\n",
       "      <td>1.0</td>\n",
       "      <td>US</td>\n",
       "      <td>37.090240</td>\n",
       "      <td>-95.712891</td>\n",
       "      <td>2023</td>\n",
       "      <td>6</td>\n",
       "      <td>2024 00:00:00</td>\n",
       "      <td>I ordered the wrong size tee and hadï¿½ï¿½ï¿½</td>\n",
       "      <td>I ordered the wrong size tee and had difficult...</td>\n",
       "      <td>5</td>\n",
       "    </tr>\n",
       "    <tr>\n",
       "      <th>2</th>\n",
       "      <td>2.0</td>\n",
       "      <td>US</td>\n",
       "      <td>37.090240</td>\n",
       "      <td>-95.712891</td>\n",
       "      <td>2023</td>\n",
       "      <td>6</td>\n",
       "      <td>2017 00:00:00</td>\n",
       "      <td>These guys offer the best customerï¿½ï¿½ï¿½</td>\n",
       "      <td>These guys offer the best customer service in ...</td>\n",
       "      <td>5</td>\n",
       "    </tr>\n",
       "    <tr>\n",
       "      <th>3</th>\n",
       "      <td>3.0</td>\n",
       "      <td>US</td>\n",
       "      <td>37.090240</td>\n",
       "      <td>-95.712891</td>\n",
       "      <td>2023</td>\n",
       "      <td>6</td>\n",
       "      <td>2024 00:00:00</td>\n",
       "      <td>Good Stuff</td>\n",
       "      <td>Looked for an obscure phrase on a shirt. Teepu...</td>\n",
       "      <td>5</td>\n",
       "    </tr>\n",
       "    <tr>\n",
       "      <th>4</th>\n",
       "      <td>4.0</td>\n",
       "      <td>CA</td>\n",
       "      <td>56.130366</td>\n",
       "      <td>-106.346771</td>\n",
       "      <td>2023</td>\n",
       "      <td>6</td>\n",
       "      <td>2023 00:00:00</td>\n",
       "      <td>My order arrived in a good timelyï¿½ï¿½ï¿½</td>\n",
       "      <td>My order arrived in a good timely fashion &amp; th...</td>\n",
       "      <td>4</td>\n",
       "    </tr>\n",
       "  </tbody>\n",
       "</table>\n",
       "</div>"
      ],
      "text/plain": [
       "   reviewer_id store_location   latitude   longitude  date  month  \\\n",
       "0          0.0             US  37.090240  -95.712891  2023      6   \n",
       "1          1.0             US  37.090240  -95.712891  2023      6   \n",
       "2          2.0             US  37.090240  -95.712891  2023      6   \n",
       "3          3.0             US  37.090240  -95.712891  2023      6   \n",
       "4          4.0             CA  56.130366 -106.346771  2023      6   \n",
       "\n",
       "            year                                          title  \\\n",
       "0  2015 00:00:00                     Great help with lost order   \n",
       "1  2024 00:00:00  I ordered the wrong size tee and hadï¿½ï¿½ï¿½   \n",
       "2  2017 00:00:00    These guys offer the best customerï¿½ï¿½ï¿½   \n",
       "3  2024 00:00:00                                     Good Stuff   \n",
       "4  2023 00:00:00     My order arrived in a good timelyï¿½ï¿½ï¿½   \n",
       "\n",
       "                                              review  review-label  \n",
       "0  I had an order that was lost in transit. When ...             5  \n",
       "1  I ordered the wrong size tee and had difficult...             5  \n",
       "2  These guys offer the best customer service in ...             5  \n",
       "3  Looked for an obscure phrase on a shirt. Teepu...             5  \n",
       "4  My order arrived in a good timely fashion & th...             4  "
      ]
     },
     "execution_count": 83,
     "metadata": {},
     "output_type": "execute_result"
    }
   ],
   "source": [
    "# Display the first few rows\n",
    "df.head()\n"
   ]
  },
  {
   "cell_type": "code",
   "execution_count": 59,
   "id": "9e49c1d1-ca0d-48f8-8a84-5c65a98cd571",
   "metadata": {},
   "outputs": [
    {
     "data": {
      "text/plain": [
       "(278100, 10)"
      ]
     },
     "execution_count": 59,
     "metadata": {},
     "output_type": "execute_result"
    }
   ],
   "source": [
    "df.shape"
   ]
  },
  {
   "cell_type": "code",
   "execution_count": 84,
   "id": "f0b23bdf-d81b-42fc-96f5-276080b64b25",
   "metadata": {},
   "outputs": [
    {
     "name": "stdout",
     "output_type": "stream",
     "text": [
      "Missing values in each column:\n",
      "\n",
      " reviewer_id           1\n",
      "store_location        0\n",
      "latitude              0\n",
      "longitude             0\n",
      "date                  0\n",
      "month                 0\n",
      "year                  0\n",
      "title                 9\n",
      "review            30503\n",
      "review-label          0\n",
      "dtype: int64\n"
     ]
    }
   ],
   "source": [
    "# Check number of null values\n",
    "missing_values = df.isna().sum()\n",
    "print(\"Missing values in each column:\\n\\n\",missing_values)\n"
   ]
  },
  {
   "cell_type": "markdown",
   "id": "01033068-942e-412a-9fc0-ae71f50b5053",
   "metadata": {},
   "source": [
    "- We need to drop those null values since they are not helpful."
   ]
  },
  {
   "cell_type": "code",
   "execution_count": 96,
   "id": "76be33cf-a7cc-4485-b7f9-19d44e50bea4",
   "metadata": {},
   "outputs": [],
   "source": [
    "\n",
    "# Drop rows with missing values in crucial columns\n",
    "df.dropna(subset=['reviewer_id', 'review','title'], inplace=True)\n"
   ]
  },
  {
   "cell_type": "code",
   "execution_count": 97,
   "id": "49fe1daa-9321-49d2-9ebb-c052f5467879",
   "metadata": {},
   "outputs": [
    {
     "name": "stdout",
     "output_type": "stream",
     "text": [
      "Missing values in each column:\n",
      "\n",
      " reviewer_id       0\n",
      "store_location    0\n",
      "latitude          0\n",
      "longitude         0\n",
      "date              0\n",
      "month             0\n",
      "year              0\n",
      "title             0\n",
      "review            0\n",
      "review-label      0\n",
      "dtype: int64\n"
     ]
    }
   ],
   "source": [
    "# Confirm number of null values\n",
    "missing_values = df.isna().sum()\n",
    "print(\"Missing values in each column:\\n\\n\",missing_values)\n"
   ]
  },
  {
   "cell_type": "code",
   "execution_count": 92,
   "id": "8a7c306f-a43f-444c-aa5c-f3d01f205d8f",
   "metadata": {},
   "outputs": [
    {
     "name": "stdout",
     "output_type": "stream",
     "text": [
      "<class 'pandas.core.frame.DataFrame'>\n",
      "Int64Index: 247596 entries, 0 to 278098\n",
      "Data columns (total 10 columns):\n",
      " #   Column          Non-Null Count   Dtype  \n",
      "---  ------          --------------   -----  \n",
      " 0   reviewer_id     247596 non-null  float64\n",
      " 1   store_location  247596 non-null  object \n",
      " 2   latitude        247596 non-null  float64\n",
      " 3   longitude       247596 non-null  float64\n",
      " 4   date            247596 non-null  int64  \n",
      " 5   month           247596 non-null  int64  \n",
      " 6   year            247596 non-null  object \n",
      " 7   title           247590 non-null  object \n",
      " 8   review          247596 non-null  object \n",
      " 9   review-label    247596 non-null  int64  \n",
      "dtypes: float64(3), int64(3), object(4)\n",
      "memory usage: 20.8+ MB\n"
     ]
    }
   ],
   "source": [
    "df.info()"
   ]
  },
  {
   "cell_type": "code",
   "execution_count": null,
   "id": "1476fe31-9deb-4a38-a87f-775ddc6d0c1a",
   "metadata": {},
   "outputs": [],
   "source": []
  },
  {
   "cell_type": "markdown",
   "id": "4d390992-07a3-4114-bd8e-cf9b58d0ab4e",
   "metadata": {},
   "source": [
    "## Step 2: Data Cleaning"
   ]
  },
  {
   "cell_type": "code",
   "execution_count": 64,
   "id": "6aa47498-8d81-4107-aff5-7934fb07548d",
   "metadata": {},
   "outputs": [],
   "source": [
    "\n",
    "# def clean_text(text):\n",
    "#     if pd.isnull(text):\n",
    "#         return ''\n",
    "#     text = re.sub(r'http\\S+', '', text) # Remove URLs\n",
    "#     text = re.sub(r'[^A-Za-z0-9\\s]', '', text) # Remove non-alphanumeric characters\n",
    "#     text = text.lower() # Convert to lowercase\n",
    "#     return text\n",
    "    "
   ]
  },
  {
   "cell_type": "code",
   "execution_count": 65,
   "id": "6dec4553-6879-4bbc-9b2c-942a3a08933d",
   "metadata": {},
   "outputs": [],
   "source": [
    "\n",
    "# # Apply the clean_text function to the 'review' and 'title' columns\n",
    "# df['clean_review'] = df['review'].apply(clean_text)\n",
    "# df['clean_title'] = df['title'].apply(clean_text)\n"
   ]
  },
  {
   "cell_type": "code",
   "execution_count": 99,
   "id": "b2b5b60e-328c-475d-859a-d586d8d166f3",
   "metadata": {},
   "outputs": [
    {
     "data": {
      "text/html": [
       "<div>\n",
       "<style scoped>\n",
       "    .dataframe tbody tr th:only-of-type {\n",
       "        vertical-align: middle;\n",
       "    }\n",
       "\n",
       "    .dataframe tbody tr th {\n",
       "        vertical-align: top;\n",
       "    }\n",
       "\n",
       "    .dataframe thead th {\n",
       "        text-align: right;\n",
       "    }\n",
       "</style>\n",
       "<table border=\"1\" class=\"dataframe\">\n",
       "  <thead>\n",
       "    <tr style=\"text-align: right;\">\n",
       "      <th></th>\n",
       "      <th>reviewer_id</th>\n",
       "      <th>store_location</th>\n",
       "      <th>latitude</th>\n",
       "      <th>longitude</th>\n",
       "      <th>date</th>\n",
       "      <th>month</th>\n",
       "      <th>year</th>\n",
       "      <th>title</th>\n",
       "      <th>review</th>\n",
       "      <th>review-label</th>\n",
       "    </tr>\n",
       "  </thead>\n",
       "  <tbody>\n",
       "    <tr>\n",
       "      <th>0</th>\n",
       "      <td>0.0</td>\n",
       "      <td>US</td>\n",
       "      <td>37.090240</td>\n",
       "      <td>-95.712891</td>\n",
       "      <td>2023</td>\n",
       "      <td>6</td>\n",
       "      <td>2015 00:00:00</td>\n",
       "      <td>Great help with lost order</td>\n",
       "      <td>I had an order that was lost in transit. When ...</td>\n",
       "      <td>5</td>\n",
       "    </tr>\n",
       "    <tr>\n",
       "      <th>1</th>\n",
       "      <td>1.0</td>\n",
       "      <td>US</td>\n",
       "      <td>37.090240</td>\n",
       "      <td>-95.712891</td>\n",
       "      <td>2023</td>\n",
       "      <td>6</td>\n",
       "      <td>2024 00:00:00</td>\n",
       "      <td>I ordered the wrong size tee and hadï¿½ï¿½ï¿½</td>\n",
       "      <td>I ordered the wrong size tee and had difficult...</td>\n",
       "      <td>5</td>\n",
       "    </tr>\n",
       "    <tr>\n",
       "      <th>2</th>\n",
       "      <td>2.0</td>\n",
       "      <td>US</td>\n",
       "      <td>37.090240</td>\n",
       "      <td>-95.712891</td>\n",
       "      <td>2023</td>\n",
       "      <td>6</td>\n",
       "      <td>2017 00:00:00</td>\n",
       "      <td>These guys offer the best customerï¿½ï¿½ï¿½</td>\n",
       "      <td>These guys offer the best customer service in ...</td>\n",
       "      <td>5</td>\n",
       "    </tr>\n",
       "    <tr>\n",
       "      <th>3</th>\n",
       "      <td>3.0</td>\n",
       "      <td>US</td>\n",
       "      <td>37.090240</td>\n",
       "      <td>-95.712891</td>\n",
       "      <td>2023</td>\n",
       "      <td>6</td>\n",
       "      <td>2024 00:00:00</td>\n",
       "      <td>Good Stuff</td>\n",
       "      <td>Looked for an obscure phrase on a shirt. Teepu...</td>\n",
       "      <td>5</td>\n",
       "    </tr>\n",
       "    <tr>\n",
       "      <th>4</th>\n",
       "      <td>4.0</td>\n",
       "      <td>CA</td>\n",
       "      <td>56.130366</td>\n",
       "      <td>-106.346771</td>\n",
       "      <td>2023</td>\n",
       "      <td>6</td>\n",
       "      <td>2023 00:00:00</td>\n",
       "      <td>My order arrived in a good timelyï¿½ï¿½ï¿½</td>\n",
       "      <td>My order arrived in a good timely fashion &amp; th...</td>\n",
       "      <td>4</td>\n",
       "    </tr>\n",
       "    <tr>\n",
       "      <th>...</th>\n",
       "      <td>...</td>\n",
       "      <td>...</td>\n",
       "      <td>...</td>\n",
       "      <td>...</td>\n",
       "      <td>...</td>\n",
       "      <td>...</td>\n",
       "      <td>...</td>\n",
       "      <td>...</td>\n",
       "      <td>...</td>\n",
       "      <td>...</td>\n",
       "    </tr>\n",
       "    <tr>\n",
       "      <th>278094</th>\n",
       "      <td>278094.0</td>\n",
       "      <td>US</td>\n",
       "      <td>37.090240</td>\n",
       "      <td>-95.712891</td>\n",
       "      <td>2018</td>\n",
       "      <td>4</td>\n",
       "      <td>2027 00:00:00</td>\n",
       "      <td>Great site</td>\n",
       "      <td>Great site. Supports independent artists while...</td>\n",
       "      <td>5</td>\n",
       "    </tr>\n",
       "    <tr>\n",
       "      <th>278095</th>\n",
       "      <td>278095.0</td>\n",
       "      <td>US</td>\n",
       "      <td>37.090240</td>\n",
       "      <td>-95.712891</td>\n",
       "      <td>2018</td>\n",
       "      <td>4</td>\n",
       "      <td>2027 00:00:00</td>\n",
       "      <td>Highly recommend!</td>\n",
       "      <td>Delivery is quick, arrives when promised. Shir...</td>\n",
       "      <td>5</td>\n",
       "    </tr>\n",
       "    <tr>\n",
       "      <th>278096</th>\n",
       "      <td>278096.0</td>\n",
       "      <td>HR</td>\n",
       "      <td>45.100000</td>\n",
       "      <td>15.200000</td>\n",
       "      <td>2018</td>\n",
       "      <td>4</td>\n",
       "      <td>2027 00:00:00</td>\n",
       "      <td>Great quality</td>\n",
       "      <td>Great quality, fast delivery, would recommend!</td>\n",
       "      <td>5</td>\n",
       "    </tr>\n",
       "    <tr>\n",
       "      <th>278097</th>\n",
       "      <td>278097.0</td>\n",
       "      <td>US</td>\n",
       "      <td>37.090240</td>\n",
       "      <td>-95.712891</td>\n",
       "      <td>2018</td>\n",
       "      <td>4</td>\n",
       "      <td>2027 00:00:00</td>\n",
       "      <td>Dudes rock.</td>\n",
       "      <td>Dudes rock. Seriously.</td>\n",
       "      <td>5</td>\n",
       "    </tr>\n",
       "    <tr>\n",
       "      <th>278098</th>\n",
       "      <td>278098.0</td>\n",
       "      <td>US</td>\n",
       "      <td>37.090240</td>\n",
       "      <td>-95.712891</td>\n",
       "      <td>2018</td>\n",
       "      <td>4</td>\n",
       "      <td>2027 00:00:00</td>\n",
       "      <td>Shipping was fast the T-shirt was justï¿½ï¿½ï¿½</td>\n",
       "      <td>Shipping was fast the T-shirt was just right g...</td>\n",
       "      <td>5</td>\n",
       "    </tr>\n",
       "  </tbody>\n",
       "</table>\n",
       "<p>247590 rows × 10 columns</p>\n",
       "</div>"
      ],
      "text/plain": [
       "        reviewer_id store_location   latitude   longitude  date  month  \\\n",
       "0               0.0             US  37.090240  -95.712891  2023      6   \n",
       "1               1.0             US  37.090240  -95.712891  2023      6   \n",
       "2               2.0             US  37.090240  -95.712891  2023      6   \n",
       "3               3.0             US  37.090240  -95.712891  2023      6   \n",
       "4               4.0             CA  56.130366 -106.346771  2023      6   \n",
       "...             ...            ...        ...         ...   ...    ...   \n",
       "278094     278094.0             US  37.090240  -95.712891  2018      4   \n",
       "278095     278095.0             US  37.090240  -95.712891  2018      4   \n",
       "278096     278096.0             HR  45.100000   15.200000  2018      4   \n",
       "278097     278097.0             US  37.090240  -95.712891  2018      4   \n",
       "278098     278098.0             US  37.090240  -95.712891  2018      4   \n",
       "\n",
       "                 year                                            title  \\\n",
       "0       2015 00:00:00                       Great help with lost order   \n",
       "1       2024 00:00:00    I ordered the wrong size tee and hadï¿½ï¿½ï¿½   \n",
       "2       2017 00:00:00      These guys offer the best customerï¿½ï¿½ï¿½   \n",
       "3       2024 00:00:00                                       Good Stuff   \n",
       "4       2023 00:00:00       My order arrived in a good timelyï¿½ï¿½ï¿½   \n",
       "...               ...                                              ...   \n",
       "278094  2027 00:00:00                                       Great site   \n",
       "278095  2027 00:00:00                                Highly recommend!   \n",
       "278096  2027 00:00:00                                    Great quality   \n",
       "278097  2027 00:00:00                                      Dudes rock.   \n",
       "278098  2027 00:00:00  Shipping was fast the T-shirt was justï¿½ï¿½ï¿½   \n",
       "\n",
       "                                                   review  review-label  \n",
       "0       I had an order that was lost in transit. When ...             5  \n",
       "1       I ordered the wrong size tee and had difficult...             5  \n",
       "2       These guys offer the best customer service in ...             5  \n",
       "3       Looked for an obscure phrase on a shirt. Teepu...             5  \n",
       "4       My order arrived in a good timely fashion & th...             4  \n",
       "...                                                   ...           ...  \n",
       "278094  Great site. Supports independent artists while...             5  \n",
       "278095  Delivery is quick, arrives when promised. Shir...             5  \n",
       "278096     Great quality, fast delivery, would recommend!             5  \n",
       "278097                             Dudes rock. Seriously.             5  \n",
       "278098  Shipping was fast the T-shirt was just right g...             5  \n",
       "\n",
       "[247590 rows x 10 columns]"
      ]
     },
     "execution_count": 99,
     "metadata": {},
     "output_type": "execute_result"
    }
   ],
   "source": [
    "df_copy = df.copy()\n",
    "df_copy\n"
   ]
  },
  {
   "cell_type": "code",
   "execution_count": 100,
   "id": "2e579f02-9aae-469f-8588-0ffd016a2f99",
   "metadata": {},
   "outputs": [
    {
     "name": "stdout",
     "output_type": "stream",
     "text": [
      "Index(['latitude', 'longitude', 'store_location', 'num_reviews'], dtype='object')\n"
     ]
    }
   ],
   "source": [
    "\n",
    "\n",
    "# Aggregate the data by store location\n",
    "location_reviews = df_copy.groupby(['latitude', 'longitude', 'store_location']).agg({'reviewer_id': 'count'}).reset_index()\n",
    "location_reviews.rename(columns={'reviewer_id': 'num_reviews'}, inplace=True)\n",
    "\n",
    "# Display the column names to confirm they are correct\n",
    "print(location_reviews.columns)"
   ]
  },
  {
   "cell_type": "code",
   "execution_count": 101,
   "id": "4dc1755a-812a-4668-bdcf-5ecd8c6f61e9",
   "metadata": {},
   "outputs": [
    {
     "data": {
      "application/vnd.plotly.v1+json": {
       "config": {
        "plotlyServerURL": "https://plot.ly"
       },
       "data": [
        {
         "geo": "geo",
         "hovertemplate": "<b>%{hovertext}</b><br><br>num_reviews=%{marker.color}<br>latitude=%{lat}<br>longitude=%{lon}<extra></extra>",
         "hovertext": [
          "NZ",
          "AR",
          "CL",
          "UY",
          "ZA",
          "AU",
          "PY",
          "NC",
          "MZ",
          "PF",
          "BO",
          "BR",
          "WS",
          "PE",
          "TZ",
          "EC",
          "ID",
          "SG",
          "UG",
          "MV",
          "SR",
          "MY",
          "CO",
          "GY",
          "VE",
          "CI",
          "LK",
          "GH",
          "PA",
          "NG",
          "CR",
          "TT",
          "GD",
          "CW",
          "AW",
          "KH",
          "NI",
          "PH",
          "BB",
          "GU",
          "SV",
          "LC",
          "VN",
          "HN",
          "GT",
          "TH",
          "GP",
          "BZ",
          "SX",
          "JM",
          "PR",
          "VI",
          "DO",
          "HT",
          "KY",
          "IN",
          "MR",
          "OM",
          "TC",
          "MM",
          "MO",
          "HK",
          "AE",
          "MX",
          "BD",
          "SA",
          "BS",
          "QA",
          "BH",
          "EG",
          "DZ",
          "KW",
          "PK",
          "JO",
          "IL",
          "MA",
          "BM",
          "IQ",
          "LB",
          "TN",
          "AF",
          "SY",
          "CY",
          "CN",
          "TW",
          "KR",
          "MT",
          "GI",
          "JP",
          "US",
          "TR",
          "GR",
          "PT",
          "ES",
          "UZ",
          "MK",
          "IT",
          "GE",
          "BG",
          "BA",
          "RS",
          "HR",
          "RO",
          "SI",
          "FR",
          "CH",
          "MN",
          "LI",
          "HU",
          "AT",
          "KZ",
          "UA",
          "SK",
          "JE",
          "GG",
          "LU",
          "CZ",
          "BE",
          "DE",
          "PL",
          "NL",
          "IE",
          "IM",
          "GB",
          "LT",
          "CA",
          "DK",
          "LV",
          "EE",
          "SE",
          "NO",
          "RU",
          "FI",
          "IS"
         ],
         "lat": [
          -40.900557,
          -38.416097,
          -35.675147,
          -32.522779,
          -30.559482,
          -25.274398,
          -23.442503,
          -20.904305,
          -18.665695,
          -17.679742,
          -16.290154,
          -14.235004,
          -13.759029,
          -9.189967,
          -6.369028,
          -1.831239,
          -0.789275,
          1.352083,
          1.373333,
          3.202778,
          3.919305,
          4.210484,
          4.570868,
          4.860416,
          6.42375,
          7.539989,
          7.873054,
          7.946527,
          8.537981,
          9.081999,
          9.748917,
          10.691803,
          12.1165,
          12.16957,
          12.52111,
          12.565679,
          12.865416,
          12.879721,
          13.193887,
          13.444304,
          13.794185,
          13.909444,
          14.058324,
          15.199999,
          15.783471,
          15.870032,
          16.265,
          17.189877,
          18.04248,
          18.109581,
          18.220833,
          18.335765,
          18.735693,
          18.971187,
          19.3133,
          20.593684,
          21.00789,
          21.4735329,
          21.694025,
          21.916221,
          22.198745,
          22.3193039,
          23.424076,
          23.634501,
          23.684994,
          23.885942,
          25.03428,
          25.354826,
          26.0667,
          26.820553,
          28.033886,
          29.31166,
          30.375321,
          30.585164,
          31.046051,
          31.791702,
          32.3078,
          33.223191,
          33.854721,
          33.886917,
          33.93911,
          34.802075,
          35.126413,
          35.86166,
          35.86166,
          35.907757,
          35.937496,
          36.140751,
          36.204824,
          37.09024,
          38.963745,
          39.074208,
          39.399872,
          40.463667,
          41.377491,
          41.608635,
          41.87194,
          42.315407,
          42.733883,
          43.915886,
          44.016521,
          45.1,
          45.943161,
          46.151241,
          46.227638,
          46.818188,
          46.862496,
          47.1410392,
          47.162494,
          47.516231,
          48.019573,
          48.379433,
          48.669026,
          49.2137711,
          49.4481982,
          49.815273,
          49.817492,
          50.503887,
          51.165691,
          51.919438,
          52.132633,
          53.7797554,
          54.236107,
          54.7877149,
          55.169438,
          56.130366,
          56.26392,
          56.879635,
          58.595272,
          60.128161,
          60.472024,
          61.52401,
          61.92411,
          64.963051
         ],
         "legendgroup": "",
         "lon": [
          174.885971,
          -63.616672,
          -71.542969,
          -55.765835,
          22.937506,
          133.775136,
          -58.443832,
          165.618042,
          35.529562,
          -149.406843,
          -63.588653,
          -51.92528,
          -172.104629,
          -75.015152,
          34.888822,
          -78.183406,
          113.921327,
          103.819836,
          32.290275,
          73.22068,
          -56.027783,
          101.975766,
          -74.297333,
          -58.93018,
          -66.58973,
          -5.54708,
          80.771797,
          -1.023194,
          -80.782127,
          8.675277,
          -83.753428,
          -61.222503,
          -61.679,
          -68.99002,
          -69.968338,
          104.990963,
          -85.207229,
          121.774017,
          -59.543198,
          144.793731,
          -88.89653,
          -60.978893,
          108.277199,
          -86.241905,
          -90.230759,
          100.992541,
          -61.551,
          -88.49765,
          -63.05483,
          -77.297508,
          -66.590149,
          -64.896335,
          -70.162651,
          -72.285215,
          -81.2546,
          78.96288,
          -10.940835,
          55.975413,
          -71.797928,
          95.955974,
          113.543873,
          114.1693611,
          53.847818,
          -102.552784,
          90.356331,
          45.079162,
          -77.39628,
          51.183884,
          50.5577,
          30.802498,
          1.659626,
          47.481766,
          69.345116,
          36.238414,
          34.851612,
          -7.09262,
          -64.7505,
          43.679291,
          35.862285,
          9.537499,
          67.709953,
          38.996815,
          33.429859,
          104.195397,
          104.195397,
          127.766922,
          14.375416,
          -5.353585,
          138.252924,
          -95.712891,
          35.243322,
          21.824312,
          -8.224454,
          -3.74922,
          64.585262,
          21.745275,
          12.56738,
          43.356892,
          25.48583,
          17.679076,
          21.005859,
          15.2,
          24.96676,
          14.995463,
          2.213749,
          8.227512,
          103.846656,
          9.520935,
          19.503304,
          14.550072,
          66.923684,
          31.16558,
          19.699024,
          -2.1357662,
          -2.58949,
          6.129583,
          15.472962,
          4.469936,
          10.451526,
          19.145136,
          5.291266,
          -7.3055309,
          -4.548056,
          -6.4923145,
          23.881275,
          -106.346771,
          9.501785,
          24.603189,
          25.013607,
          18.643501,
          8.468946,
          105.318756,
          25.748151,
          -19.020835
         ],
         "marker": {
          "color": [
           382,
           14,
           12,
           6,
           13,
           4159,
           2,
           2,
           1,
           1,
           1,
           64,
           1,
           3,
           1,
           4,
           13,
           147,
           1,
           2,
           2,
           40,
           14,
           3,
           12,
           1,
           8,
           1,
           20,
           1,
           29,
           11,
           2,
           1,
           1,
           1,
           2,
           16,
           3,
           21,
           5,
           1,
           7,
           4,
           5,
           21,
           1,
           1,
           1,
           10,
           118,
           2,
           14,
           2,
           3,
           31,
           1,
           2,
           1,
           1,
           1,
           53,
           20,
           191,
           2,
           9,
           8,
           2,
           10,
           7,
           8,
           8,
           8,
           3,
           155,
           19,
           5,
           2,
           1,
           2,
           3,
           1,
           5,
           4,
           24,
           25,
           8,
           2,
           118,
           221966,
           7,
           33,
           69,
           141,
           1,
           1,
           212,
           6,
           8,
           2,
           8,
           36,
           19,
           4,
           335,
           105,
           1,
           1,
           64,
           63,
           1,
           9,
           22,
           2,
           2,
           21,
           53,
           167,
           1000,
           87,
           527,
           189,
           6,
           4206,
           17,
           11833,
           81,
           6,
           9,
           144,
           86,
           12,
           61,
           14
          ],
          "coloraxis": "coloraxis",
          "size": [
           382,
           14,
           12,
           6,
           13,
           4159,
           2,
           2,
           1,
           1,
           1,
           64,
           1,
           3,
           1,
           4,
           13,
           147,
           1,
           2,
           2,
           40,
           14,
           3,
           12,
           1,
           8,
           1,
           20,
           1,
           29,
           11,
           2,
           1,
           1,
           1,
           2,
           16,
           3,
           21,
           5,
           1,
           7,
           4,
           5,
           21,
           1,
           1,
           1,
           10,
           118,
           2,
           14,
           2,
           3,
           31,
           1,
           2,
           1,
           1,
           1,
           53,
           20,
           191,
           2,
           9,
           8,
           2,
           10,
           7,
           8,
           8,
           8,
           3,
           155,
           19,
           5,
           2,
           1,
           2,
           3,
           1,
           5,
           4,
           24,
           25,
           8,
           2,
           118,
           221966,
           7,
           33,
           69,
           141,
           1,
           1,
           212,
           6,
           8,
           2,
           8,
           36,
           19,
           4,
           335,
           105,
           1,
           1,
           64,
           63,
           1,
           9,
           22,
           2,
           2,
           21,
           53,
           167,
           1000,
           87,
           527,
           189,
           6,
           4206,
           17,
           11833,
           81,
           6,
           9,
           144,
           86,
           12,
           61,
           14
          ],
          "sizemode": "area",
          "sizeref": 554.915,
          "symbol": "circle"
         },
         "mode": "markers",
         "name": "",
         "showlegend": false,
         "type": "scattergeo"
        }
       ],
       "layout": {
        "annotations": [
         {
          "arrowhead": 1,
          "ax": 50,
          "ay": -50,
          "showarrow": true,
          "text": "USA: High Number of Reviews",
          "x": -95.712891,
          "y": 37.09024
         },
         {
          "arrowhead": 1,
          "ax": -50,
          "ay": 50,
          "showarrow": true,
          "text": "Canada: High Number of Reviews",
          "x": -106.346771,
          "y": 56.130366
         }
        ],
        "coloraxis": {
         "colorbar": {
          "title": {
           "text": "Number of Reviews"
          }
         },
         "colorscale": [
          [
           0,
           "#440154"
          ],
          [
           0.1111111111111111,
           "#482878"
          ],
          [
           0.2222222222222222,
           "#3e4989"
          ],
          [
           0.3333333333333333,
           "#31688e"
          ],
          [
           0.4444444444444444,
           "#26828e"
          ],
          [
           0.5555555555555556,
           "#1f9e89"
          ],
          [
           0.6666666666666666,
           "#35b779"
          ],
          [
           0.7777777777777778,
           "#6ece58"
          ],
          [
           0.8888888888888888,
           "#b5de2b"
          ],
          [
           1,
           "#fde725"
          ]
         ]
        },
        "geo": {
         "center": {},
         "coastlinecolor": "black",
         "domain": {
          "x": [
           0,
           1
          ],
          "y": [
           0,
           1
          ]
         },
         "landcolor": "white",
         "oceancolor": "lightblue",
         "projection": {
          "type": "natural earth"
         },
         "showland": true,
         "showocean": true
        },
        "height": 600,
        "legend": {
         "itemsizing": "constant",
         "tracegroupgap": 0
        },
        "template": {
         "data": {
          "bar": [
           {
            "error_x": {
             "color": "#2a3f5f"
            },
            "error_y": {
             "color": "#2a3f5f"
            },
            "marker": {
             "line": {
              "color": "#E5ECF6",
              "width": 0.5
             },
             "pattern": {
              "fillmode": "overlay",
              "size": 10,
              "solidity": 0.2
             }
            },
            "type": "bar"
           }
          ],
          "barpolar": [
           {
            "marker": {
             "line": {
              "color": "#E5ECF6",
              "width": 0.5
             },
             "pattern": {
              "fillmode": "overlay",
              "size": 10,
              "solidity": 0.2
             }
            },
            "type": "barpolar"
           }
          ],
          "carpet": [
           {
            "aaxis": {
             "endlinecolor": "#2a3f5f",
             "gridcolor": "white",
             "linecolor": "white",
             "minorgridcolor": "white",
             "startlinecolor": "#2a3f5f"
            },
            "baxis": {
             "endlinecolor": "#2a3f5f",
             "gridcolor": "white",
             "linecolor": "white",
             "minorgridcolor": "white",
             "startlinecolor": "#2a3f5f"
            },
            "type": "carpet"
           }
          ],
          "choropleth": [
           {
            "colorbar": {
             "outlinewidth": 0,
             "ticks": ""
            },
            "type": "choropleth"
           }
          ],
          "contour": [
           {
            "colorbar": {
             "outlinewidth": 0,
             "ticks": ""
            },
            "colorscale": [
             [
              0,
              "#0d0887"
             ],
             [
              0.1111111111111111,
              "#46039f"
             ],
             [
              0.2222222222222222,
              "#7201a8"
             ],
             [
              0.3333333333333333,
              "#9c179e"
             ],
             [
              0.4444444444444444,
              "#bd3786"
             ],
             [
              0.5555555555555556,
              "#d8576b"
             ],
             [
              0.6666666666666666,
              "#ed7953"
             ],
             [
              0.7777777777777778,
              "#fb9f3a"
             ],
             [
              0.8888888888888888,
              "#fdca26"
             ],
             [
              1,
              "#f0f921"
             ]
            ],
            "type": "contour"
           }
          ],
          "contourcarpet": [
           {
            "colorbar": {
             "outlinewidth": 0,
             "ticks": ""
            },
            "type": "contourcarpet"
           }
          ],
          "heatmap": [
           {
            "colorbar": {
             "outlinewidth": 0,
             "ticks": ""
            },
            "colorscale": [
             [
              0,
              "#0d0887"
             ],
             [
              0.1111111111111111,
              "#46039f"
             ],
             [
              0.2222222222222222,
              "#7201a8"
             ],
             [
              0.3333333333333333,
              "#9c179e"
             ],
             [
              0.4444444444444444,
              "#bd3786"
             ],
             [
              0.5555555555555556,
              "#d8576b"
             ],
             [
              0.6666666666666666,
              "#ed7953"
             ],
             [
              0.7777777777777778,
              "#fb9f3a"
             ],
             [
              0.8888888888888888,
              "#fdca26"
             ],
             [
              1,
              "#f0f921"
             ]
            ],
            "type": "heatmap"
           }
          ],
          "heatmapgl": [
           {
            "colorbar": {
             "outlinewidth": 0,
             "ticks": ""
            },
            "colorscale": [
             [
              0,
              "#0d0887"
             ],
             [
              0.1111111111111111,
              "#46039f"
             ],
             [
              0.2222222222222222,
              "#7201a8"
             ],
             [
              0.3333333333333333,
              "#9c179e"
             ],
             [
              0.4444444444444444,
              "#bd3786"
             ],
             [
              0.5555555555555556,
              "#d8576b"
             ],
             [
              0.6666666666666666,
              "#ed7953"
             ],
             [
              0.7777777777777778,
              "#fb9f3a"
             ],
             [
              0.8888888888888888,
              "#fdca26"
             ],
             [
              1,
              "#f0f921"
             ]
            ],
            "type": "heatmapgl"
           }
          ],
          "histogram": [
           {
            "marker": {
             "pattern": {
              "fillmode": "overlay",
              "size": 10,
              "solidity": 0.2
             }
            },
            "type": "histogram"
           }
          ],
          "histogram2d": [
           {
            "colorbar": {
             "outlinewidth": 0,
             "ticks": ""
            },
            "colorscale": [
             [
              0,
              "#0d0887"
             ],
             [
              0.1111111111111111,
              "#46039f"
             ],
             [
              0.2222222222222222,
              "#7201a8"
             ],
             [
              0.3333333333333333,
              "#9c179e"
             ],
             [
              0.4444444444444444,
              "#bd3786"
             ],
             [
              0.5555555555555556,
              "#d8576b"
             ],
             [
              0.6666666666666666,
              "#ed7953"
             ],
             [
              0.7777777777777778,
              "#fb9f3a"
             ],
             [
              0.8888888888888888,
              "#fdca26"
             ],
             [
              1,
              "#f0f921"
             ]
            ],
            "type": "histogram2d"
           }
          ],
          "histogram2dcontour": [
           {
            "colorbar": {
             "outlinewidth": 0,
             "ticks": ""
            },
            "colorscale": [
             [
              0,
              "#0d0887"
             ],
             [
              0.1111111111111111,
              "#46039f"
             ],
             [
              0.2222222222222222,
              "#7201a8"
             ],
             [
              0.3333333333333333,
              "#9c179e"
             ],
             [
              0.4444444444444444,
              "#bd3786"
             ],
             [
              0.5555555555555556,
              "#d8576b"
             ],
             [
              0.6666666666666666,
              "#ed7953"
             ],
             [
              0.7777777777777778,
              "#fb9f3a"
             ],
             [
              0.8888888888888888,
              "#fdca26"
             ],
             [
              1,
              "#f0f921"
             ]
            ],
            "type": "histogram2dcontour"
           }
          ],
          "mesh3d": [
           {
            "colorbar": {
             "outlinewidth": 0,
             "ticks": ""
            },
            "type": "mesh3d"
           }
          ],
          "parcoords": [
           {
            "line": {
             "colorbar": {
              "outlinewidth": 0,
              "ticks": ""
             }
            },
            "type": "parcoords"
           }
          ],
          "pie": [
           {
            "automargin": true,
            "type": "pie"
           }
          ],
          "scatter": [
           {
            "fillpattern": {
             "fillmode": "overlay",
             "size": 10,
             "solidity": 0.2
            },
            "type": "scatter"
           }
          ],
          "scatter3d": [
           {
            "line": {
             "colorbar": {
              "outlinewidth": 0,
              "ticks": ""
             }
            },
            "marker": {
             "colorbar": {
              "outlinewidth": 0,
              "ticks": ""
             }
            },
            "type": "scatter3d"
           }
          ],
          "scattercarpet": [
           {
            "marker": {
             "colorbar": {
              "outlinewidth": 0,
              "ticks": ""
             }
            },
            "type": "scattercarpet"
           }
          ],
          "scattergeo": [
           {
            "marker": {
             "colorbar": {
              "outlinewidth": 0,
              "ticks": ""
             }
            },
            "type": "scattergeo"
           }
          ],
          "scattergl": [
           {
            "marker": {
             "colorbar": {
              "outlinewidth": 0,
              "ticks": ""
             }
            },
            "type": "scattergl"
           }
          ],
          "scattermapbox": [
           {
            "marker": {
             "colorbar": {
              "outlinewidth": 0,
              "ticks": ""
             }
            },
            "type": "scattermapbox"
           }
          ],
          "scatterpolar": [
           {
            "marker": {
             "colorbar": {
              "outlinewidth": 0,
              "ticks": ""
             }
            },
            "type": "scatterpolar"
           }
          ],
          "scatterpolargl": [
           {
            "marker": {
             "colorbar": {
              "outlinewidth": 0,
              "ticks": ""
             }
            },
            "type": "scatterpolargl"
           }
          ],
          "scatterternary": [
           {
            "marker": {
             "colorbar": {
              "outlinewidth": 0,
              "ticks": ""
             }
            },
            "type": "scatterternary"
           }
          ],
          "surface": [
           {
            "colorbar": {
             "outlinewidth": 0,
             "ticks": ""
            },
            "colorscale": [
             [
              0,
              "#0d0887"
             ],
             [
              0.1111111111111111,
              "#46039f"
             ],
             [
              0.2222222222222222,
              "#7201a8"
             ],
             [
              0.3333333333333333,
              "#9c179e"
             ],
             [
              0.4444444444444444,
              "#bd3786"
             ],
             [
              0.5555555555555556,
              "#d8576b"
             ],
             [
              0.6666666666666666,
              "#ed7953"
             ],
             [
              0.7777777777777778,
              "#fb9f3a"
             ],
             [
              0.8888888888888888,
              "#fdca26"
             ],
             [
              1,
              "#f0f921"
             ]
            ],
            "type": "surface"
           }
          ],
          "table": [
           {
            "cells": {
             "fill": {
              "color": "#EBF0F8"
             },
             "line": {
              "color": "white"
             }
            },
            "header": {
             "fill": {
              "color": "#C8D4E3"
             },
             "line": {
              "color": "white"
             }
            },
            "type": "table"
           }
          ]
         },
         "layout": {
          "annotationdefaults": {
           "arrowcolor": "#2a3f5f",
           "arrowhead": 0,
           "arrowwidth": 1
          },
          "autotypenumbers": "strict",
          "coloraxis": {
           "colorbar": {
            "outlinewidth": 0,
            "ticks": ""
           }
          },
          "colorscale": {
           "diverging": [
            [
             0,
             "#8e0152"
            ],
            [
             0.1,
             "#c51b7d"
            ],
            [
             0.2,
             "#de77ae"
            ],
            [
             0.3,
             "#f1b6da"
            ],
            [
             0.4,
             "#fde0ef"
            ],
            [
             0.5,
             "#f7f7f7"
            ],
            [
             0.6,
             "#e6f5d0"
            ],
            [
             0.7,
             "#b8e186"
            ],
            [
             0.8,
             "#7fbc41"
            ],
            [
             0.9,
             "#4d9221"
            ],
            [
             1,
             "#276419"
            ]
           ],
           "sequential": [
            [
             0,
             "#0d0887"
            ],
            [
             0.1111111111111111,
             "#46039f"
            ],
            [
             0.2222222222222222,
             "#7201a8"
            ],
            [
             0.3333333333333333,
             "#9c179e"
            ],
            [
             0.4444444444444444,
             "#bd3786"
            ],
            [
             0.5555555555555556,
             "#d8576b"
            ],
            [
             0.6666666666666666,
             "#ed7953"
            ],
            [
             0.7777777777777778,
             "#fb9f3a"
            ],
            [
             0.8888888888888888,
             "#fdca26"
            ],
            [
             1,
             "#f0f921"
            ]
           ],
           "sequentialminus": [
            [
             0,
             "#0d0887"
            ],
            [
             0.1111111111111111,
             "#46039f"
            ],
            [
             0.2222222222222222,
             "#7201a8"
            ],
            [
             0.3333333333333333,
             "#9c179e"
            ],
            [
             0.4444444444444444,
             "#bd3786"
            ],
            [
             0.5555555555555556,
             "#d8576b"
            ],
            [
             0.6666666666666666,
             "#ed7953"
            ],
            [
             0.7777777777777778,
             "#fb9f3a"
            ],
            [
             0.8888888888888888,
             "#fdca26"
            ],
            [
             1,
             "#f0f921"
            ]
           ]
          },
          "colorway": [
           "#636efa",
           "#EF553B",
           "#00cc96",
           "#ab63fa",
           "#FFA15A",
           "#19d3f3",
           "#FF6692",
           "#B6E880",
           "#FF97FF",
           "#FECB52"
          ],
          "font": {
           "color": "#2a3f5f"
          },
          "geo": {
           "bgcolor": "white",
           "lakecolor": "white",
           "landcolor": "#E5ECF6",
           "showlakes": true,
           "showland": true,
           "subunitcolor": "white"
          },
          "hoverlabel": {
           "align": "left"
          },
          "hovermode": "closest",
          "mapbox": {
           "style": "light"
          },
          "paper_bgcolor": "white",
          "plot_bgcolor": "#E5ECF6",
          "polar": {
           "angularaxis": {
            "gridcolor": "white",
            "linecolor": "white",
            "ticks": ""
           },
           "bgcolor": "#E5ECF6",
           "radialaxis": {
            "gridcolor": "white",
            "linecolor": "white",
            "ticks": ""
           }
          },
          "scene": {
           "xaxis": {
            "backgroundcolor": "#E5ECF6",
            "gridcolor": "white",
            "gridwidth": 2,
            "linecolor": "white",
            "showbackground": true,
            "ticks": "",
            "zerolinecolor": "white"
           },
           "yaxis": {
            "backgroundcolor": "#E5ECF6",
            "gridcolor": "white",
            "gridwidth": 2,
            "linecolor": "white",
            "showbackground": true,
            "ticks": "",
            "zerolinecolor": "white"
           },
           "zaxis": {
            "backgroundcolor": "#E5ECF6",
            "gridcolor": "white",
            "gridwidth": 2,
            "linecolor": "white",
            "showbackground": true,
            "ticks": "",
            "zerolinecolor": "white"
           }
          },
          "shapedefaults": {
           "line": {
            "color": "#2a3f5f"
           }
          },
          "ternary": {
           "aaxis": {
            "gridcolor": "white",
            "linecolor": "white",
            "ticks": ""
           },
           "baxis": {
            "gridcolor": "white",
            "linecolor": "white",
            "ticks": ""
           },
           "bgcolor": "#E5ECF6",
           "caxis": {
            "gridcolor": "white",
            "linecolor": "white",
            "ticks": ""
           }
          },
          "title": {
           "x": 0.05
          },
          "xaxis": {
           "automargin": true,
           "gridcolor": "white",
           "linecolor": "white",
           "ticks": "",
           "title": {
            "standoff": 15
           },
           "zerolinecolor": "white",
           "zerolinewidth": 2
          },
          "yaxis": {
           "automargin": true,
           "gridcolor": "white",
           "linecolor": "white",
           "ticks": "",
           "title": {
            "standoff": 15
           },
           "zerolinecolor": "white",
           "zerolinewidth": 2
          }
         }
        },
        "title": {
         "text": "Store Locations and Number of Reviews"
        },
        "width": 1000
       }
      },
      "image/png": "[encoded data removed]",
      "text/html": [
       "<div>                            <div id=\"6801fff3-df64-4445-a8f9-0a303316ca9a\" class=\"plotly-graph-div\" style=\"height:600px; width:1000px;\"></div>            <script type=\"text/javascript\">                require([\"plotly\"], function(Plotly) {                    window.PLOTLYENV=window.PLOTLYENV || {};                                    if (document.getElementById(\"6801fff3-df64-4445-a8f9-0a303316ca9a\")) {                    Plotly.newPlot(                        \"6801fff3-df64-4445-a8f9-0a303316ca9a\",                        [{\"geo\":\"geo\",\"hovertemplate\":\"<b>%{hovertext}</b><br><br>num_reviews=%{marker.color}<br>latitude=%{lat}<br>longitude=%{lon}<extra></extra>\",\"hovertext\":[\"NZ\",\"AR\",\"CL\",\"UY\",\"ZA\",\"AU\",\"PY\",\"NC\",\"MZ\",\"PF\",\"BO\",\"BR\",\"WS\",\"PE\",\"TZ\",\"EC\",\"ID\",\"SG\",\"UG\",\"MV\",\"SR\",\"MY\",\"CO\",\"GY\",\"VE\",\"CI\",\"LK\",\"GH\",\"PA\",\"NG\",\"CR\",\"TT\",\"GD\",\"CW\",\"AW\",\"KH\",\"NI\",\"PH\",\"BB\",\"GU\",\"SV\",\"LC\",\"VN\",\"HN\",\"GT\",\"TH\",\"GP\",\"BZ\",\"SX\",\"JM\",\"PR\",\"VI\",\"DO\",\"HT\",\"KY\",\"IN\",\"MR\",\"OM\",\"TC\",\"MM\",\"MO\",\"HK\",\"AE\",\"MX\",\"BD\",\"SA\",\"BS\",\"QA\",\"BH\",\"EG\",\"DZ\",\"KW\",\"PK\",\"JO\",\"IL\",\"MA\",\"BM\",\"IQ\",\"LB\",\"TN\",\"AF\",\"SY\",\"CY\",\"CN\",\"TW\",\"KR\",\"MT\",\"GI\",\"JP\",\"US\",\"TR\",\"GR\",\"PT\",\"ES\",\"UZ\",\"MK\",\"IT\",\"GE\",\"BG\",\"BA\",\"RS\",\"HR\",\"RO\",\"SI\",\"FR\",\"CH\",\"MN\",\"LI\",\"HU\",\"AT\",\"KZ\",\"UA\",\"SK\",\"JE\",\"GG\",\"LU\",\"CZ\",\"BE\",\"DE\",\"PL\",\"NL\",\"IE\",\"IM\",\"GB\",\"LT\",\"CA\",\"DK\",\"LV\",\"EE\",\"SE\",\"NO\",\"RU\",\"FI\",\"IS\"],\"lat\":[-40.900557,-38.416097,-35.675147,-32.522779,-30.559482,-25.274398,-23.442503,-20.904305,-18.665695,-17.679742,-16.290154,-14.235004,-13.759029,-9.189967,-6.369028,-1.831239,-0.789275,1.352083,1.373333,3.202778,3.919305,4.210484,4.570868,4.860416,6.42375,7.539989,7.873054,7.946527,8.537981,9.081999,9.748917,10.691803,12.1165,12.16957,12.52111,12.565679,12.865416,12.879721,13.193887,13.444304,13.794185,13.909444,14.058324,15.199999,15.783471,15.870032,16.265,17.189877,18.04248,18.109581,18.220833,18.335765,18.735693,18.971187,19.3133,20.593684,21.00789,21.4735329,21.694025,21.916221,22.198745,22.3193039,23.424076,23.634501,23.684994,23.885942,25.03428,25.354826,26.0667,26.820553,28.033886,29.31166,30.375321,30.585164,31.046051,31.791702,32.3078,33.223191,33.854721,33.886917,33.93911,34.802075,35.126413,35.86166,35.86166,35.907757,35.937496,36.140751,36.204824,37.09024,38.963745,39.074208,39.399872,40.463667,41.377491,41.608635,41.87194,42.315407,42.733883,43.915886,44.016521,45.1,45.943161,46.151241,46.227638,46.818188,46.862496,47.1410392,47.162494,47.516231,48.019573,48.379433,48.669026,49.2137711,49.4481982,49.815273,49.817492,50.503887,51.165691,51.919438,52.132633,53.7797554,54.236107,54.7877149,55.169438,56.130366,56.26392,56.879635,58.595272,60.128161,60.472024,61.52401,61.92411,64.963051],\"legendgroup\":\"\",\"lon\":[174.885971,-63.616672,-71.542969,-55.765835,22.937506,133.775136,-58.443832,165.618042,35.529562,-149.406843,-63.588653,-51.92528,-172.104629,-75.015152,34.888822,-78.183406,113.921327,103.819836,32.290275,73.22068,-56.027783,101.975766,-74.297333,-58.93018,-66.58973,-5.54708,80.771797,-1.023194,-80.782127,8.675277,-83.753428,-61.222503,-61.679,-68.99002,-69.968338,104.990963,-85.207229,121.774017,-59.543198,144.793731,-88.89653,-60.978893,108.277199,-86.241905,-90.230759,100.992541,-61.551,-88.49765,-63.05483,-77.297508,-66.590149,-64.896335,-70.162651,-72.285215,-81.2546,78.96288,-10.940835,55.975413,-71.797928,95.955974,113.543873,114.1693611,53.847818,-102.552784,90.356331,45.079162,-77.39628,51.183884,50.5577,30.802498,1.659626,47.481766,69.345116,36.238414,34.851612,-7.09262,-64.7505,43.679291,35.862285,9.537499,67.709953,38.996815,33.429859,104.195397,104.195397,127.766922,14.375416,-5.353585,138.252924,-95.712891,35.243322,21.824312,-8.224454,-3.74922,64.585262,21.745275,12.56738,43.356892,25.48583,17.679076,21.005859,15.2,24.96676,14.995463,2.213749,8.227512,103.846656,9.520935,19.503304,14.550072,66.923684,31.16558,19.699024,-2.1357662,-2.58949,6.129583,15.472962,4.469936,10.451526,19.145136,5.291266,-7.3055309,-4.548056,-6.4923145,23.881275,-106.346771,9.501785,24.603189,25.013607,18.643501,8.468946,105.318756,25.748151,-19.020835],\"marker\":{\"color\":[382,14,12,6,13,4159,2,2,1,1,1,64,1,3,1,4,13,147,1,2,2,40,14,3,12,1,8,1,20,1,29,11,2,1,1,1,2,16,3,21,5,1,7,4,5,21,1,1,1,10,118,2,14,2,3,31,1,2,1,1,1,53,20,191,2,9,8,2,10,7,8,8,8,3,155,19,5,2,1,2,3,1,5,4,24,25,8,2,118,221966,7,33,69,141,1,1,212,6,8,2,8,36,19,4,335,105,1,1,64,63,1,9,22,2,2,21,53,167,1000,87,527,189,6,4206,17,11833,81,6,9,144,86,12,61,14],\"coloraxis\":\"coloraxis\",\"size\":[382,14,12,6,13,4159,2,2,1,1,1,64,1,3,1,4,13,147,1,2,2,40,14,3,12,1,8,1,20,1,29,11,2,1,1,1,2,16,3,21,5,1,7,4,5,21,1,1,1,10,118,2,14,2,3,31,1,2,1,1,1,53,20,191,2,9,8,2,10,7,8,8,8,3,155,19,5,2,1,2,3,1,5,4,24,25,8,2,118,221966,7,33,69,141,1,1,212,6,8,2,8,36,19,4,335,105,1,1,64,63,1,9,22,2,2,21,53,167,1000,87,527,189,6,4206,17,11833,81,6,9,144,86,12,61,14],\"sizemode\":\"area\",\"sizeref\":554.915,\"symbol\":\"circle\"},\"mode\":\"markers\",\"name\":\"\",\"showlegend\":false,\"type\":\"scattergeo\"}],                        {\"template\":{\"data\":{\"histogram2dcontour\":[{\"type\":\"histogram2dcontour\",\"colorbar\":{\"outlinewidth\":0,\"ticks\":\"\"},\"colorscale\":[[0.0,\"#0d0887\"],[0.1111111111111111,\"#46039f\"],[0.2222222222222222,\"#7201a8\"],[0.3333333333333333,\"#9c179e\"],[0.4444444444444444,\"#bd3786\"],[0.5555555555555556,\"#d8576b\"],[0.6666666666666666,\"#ed7953\"],[0.7777777777777778,\"#fb9f3a\"],[0.8888888888888888,\"#fdca26\"],[1.0,\"#f0f921\"]]}],\"choropleth\":[{\"type\":\"choropleth\",\"colorbar\":{\"outlinewidth\":0,\"ticks\":\"\"}}],\"histogram2d\":[{\"type\":\"histogram2d\",\"colorbar\":{\"outlinewidth\":0,\"ticks\":\"\"},\"colorscale\":[[0.0,\"#0d0887\"],[0.1111111111111111,\"#46039f\"],[0.2222222222222222,\"#7201a8\"],[0.3333333333333333,\"#9c179e\"],[0.4444444444444444,\"#bd3786\"],[0.5555555555555556,\"#d8576b\"],[0.6666666666666666,\"#ed7953\"],[0.7777777777777778,\"#fb9f3a\"],[0.8888888888888888,\"#fdca26\"],[1.0,\"#f0f921\"]]}],\"heatmap\":[{\"type\":\"heatmap\",\"colorbar\":{\"outlinewidth\":0,\"ticks\":\"\"},\"colorscale\":[[0.0,\"#0d0887\"],[0.1111111111111111,\"#46039f\"],[0.2222222222222222,\"#7201a8\"],[0.3333333333333333,\"#9c179e\"],[0.4444444444444444,\"#bd3786\"],[0.5555555555555556,\"#d8576b\"],[0.6666666666666666,\"#ed7953\"],[0.7777777777777778,\"#fb9f3a\"],[0.8888888888888888,\"#fdca26\"],[1.0,\"#f0f921\"]]}],\"heatmapgl\":[{\"type\":\"heatmapgl\",\"colorbar\":{\"outlinewidth\":0,\"ticks\":\"\"},\"colorscale\":[[0.0,\"#0d0887\"],[0.1111111111111111,\"#46039f\"],[0.2222222222222222,\"#7201a8\"],[0.3333333333333333,\"#9c179e\"],[0.4444444444444444,\"#bd3786\"],[0.5555555555555556,\"#d8576b\"],[0.6666666666666666,\"#ed7953\"],[0.7777777777777778,\"#fb9f3a\"],[0.8888888888888888,\"#fdca26\"],[1.0,\"#f0f921\"]]}],\"contourcarpet\":[{\"type\":\"contourcarpet\",\"colorbar\":{\"outlinewidth\":0,\"ticks\":\"\"}}],\"contour\":[{\"type\":\"contour\",\"colorbar\":{\"outlinewidth\":0,\"ticks\":\"\"},\"colorscale\":[[0.0,\"#0d0887\"],[0.1111111111111111,\"#46039f\"],[0.2222222222222222,\"#7201a8\"],[0.3333333333333333,\"#9c179e\"],[0.4444444444444444,\"#bd3786\"],[0.5555555555555556,\"#d8576b\"],[0.6666666666666666,\"#ed7953\"],[0.7777777777777778,\"#fb9f3a\"],[0.8888888888888888,\"#fdca26\"],[1.0,\"#f0f921\"]]}],\"surface\":[{\"type\":\"surface\",\"colorbar\":{\"outlinewidth\":0,\"ticks\":\"\"},\"colorscale\":[[0.0,\"#0d0887\"],[0.1111111111111111,\"#46039f\"],[0.2222222222222222,\"#7201a8\"],[0.3333333333333333,\"#9c179e\"],[0.4444444444444444,\"#bd3786\"],[0.5555555555555556,\"#d8576b\"],[0.6666666666666666,\"#ed7953\"],[0.7777777777777778,\"#fb9f3a\"],[0.8888888888888888,\"#fdca26\"],[1.0,\"#f0f921\"]]}],\"mesh3d\":[{\"type\":\"mesh3d\",\"colorbar\":{\"outlinewidth\":0,\"ticks\":\"\"}}],\"scatter\":[{\"fillpattern\":{\"fillmode\":\"overlay\",\"size\":10,\"solidity\":0.2},\"type\":\"scatter\"}],\"parcoords\":[{\"type\":\"parcoords\",\"line\":{\"colorbar\":{\"outlinewidth\":0,\"ticks\":\"\"}}}],\"scatterpolargl\":[{\"type\":\"scatterpolargl\",\"marker\":{\"colorbar\":{\"outlinewidth\":0,\"ticks\":\"\"}}}],\"bar\":[{\"error_x\":{\"color\":\"#2a3f5f\"},\"error_y\":{\"color\":\"#2a3f5f\"},\"marker\":{\"line\":{\"color\":\"#E5ECF6\",\"width\":0.5},\"pattern\":{\"fillmode\":\"overlay\",\"size\":10,\"solidity\":0.2}},\"type\":\"bar\"}],\"scattergeo\":[{\"type\":\"scattergeo\",\"marker\":{\"colorbar\":{\"outlinewidth\":0,\"ticks\":\"\"}}}],\"scatterpolar\":[{\"type\":\"scatterpolar\",\"marker\":{\"colorbar\":{\"outlinewidth\":0,\"ticks\":\"\"}}}],\"histogram\":[{\"marker\":{\"pattern\":{\"fillmode\":\"overlay\",\"size\":10,\"solidity\":0.2}},\"type\":\"histogram\"}],\"scattergl\":[{\"type\":\"scattergl\",\"marker\":{\"colorbar\":{\"outlinewidth\":0,\"ticks\":\"\"}}}],\"scatter3d\":[{\"type\":\"scatter3d\",\"line\":{\"colorbar\":{\"outlinewidth\":0,\"ticks\":\"\"}},\"marker\":{\"colorbar\":{\"outlinewidth\":0,\"ticks\":\"\"}}}],\"scattermapbox\":[{\"type\":\"scattermapbox\",\"marker\":{\"colorbar\":{\"outlinewidth\":0,\"ticks\":\"\"}}}],\"scatterternary\":[{\"type\":\"scatterternary\",\"marker\":{\"colorbar\":{\"outlinewidth\":0,\"ticks\":\"\"}}}],\"scattercarpet\":[{\"type\":\"scattercarpet\",\"marker\":{\"colorbar\":{\"outlinewidth\":0,\"ticks\":\"\"}}}],\"carpet\":[{\"aaxis\":{\"endlinecolor\":\"#2a3f5f\",\"gridcolor\":\"white\",\"linecolor\":\"white\",\"minorgridcolor\":\"white\",\"startlinecolor\":\"#2a3f5f\"},\"baxis\":{\"endlinecolor\":\"#2a3f5f\",\"gridcolor\":\"white\",\"linecolor\":\"white\",\"minorgridcolor\":\"white\",\"startlinecolor\":\"#2a3f5f\"},\"type\":\"carpet\"}],\"table\":[{\"cells\":{\"fill\":{\"color\":\"#EBF0F8\"},\"line\":{\"color\":\"white\"}},\"header\":{\"fill\":{\"color\":\"#C8D4E3\"},\"line\":{\"color\":\"white\"}},\"type\":\"table\"}],\"barpolar\":[{\"marker\":{\"line\":{\"color\":\"#E5ECF6\",\"width\":0.5},\"pattern\":{\"fillmode\":\"overlay\",\"size\":10,\"solidity\":0.2}},\"type\":\"barpolar\"}],\"pie\":[{\"automargin\":true,\"type\":\"pie\"}]},\"layout\":{\"autotypenumbers\":\"strict\",\"colorway\":[\"#636efa\",\"#EF553B\",\"#00cc96\",\"#ab63fa\",\"#FFA15A\",\"#19d3f3\",\"#FF6692\",\"#B6E880\",\"#FF97FF\",\"#FECB52\"],\"font\":{\"color\":\"#2a3f5f\"},\"hovermode\":\"closest\",\"hoverlabel\":{\"align\":\"left\"},\"paper_bgcolor\":\"white\",\"plot_bgcolor\":\"#E5ECF6\",\"polar\":{\"bgcolor\":\"#E5ECF6\",\"angularaxis\":{\"gridcolor\":\"white\",\"linecolor\":\"white\",\"ticks\":\"\"},\"radialaxis\":{\"gridcolor\":\"white\",\"linecolor\":\"white\",\"ticks\":\"\"}},\"ternary\":{\"bgcolor\":\"#E5ECF6\",\"aaxis\":{\"gridcolor\":\"white\",\"linecolor\":\"white\",\"ticks\":\"\"},\"baxis\":{\"gridcolor\":\"white\",\"linecolor\":\"white\",\"ticks\":\"\"},\"caxis\":{\"gridcolor\":\"white\",\"linecolor\":\"white\",\"ticks\":\"\"}},\"coloraxis\":{\"colorbar\":{\"outlinewidth\":0,\"ticks\":\"\"}},\"colorscale\":{\"sequential\":[[0.0,\"#0d0887\"],[0.1111111111111111,\"#46039f\"],[0.2222222222222222,\"#7201a8\"],[0.3333333333333333,\"#9c179e\"],[0.4444444444444444,\"#bd3786\"],[0.5555555555555556,\"#d8576b\"],[0.6666666666666666,\"#ed7953\"],[0.7777777777777778,\"#fb9f3a\"],[0.8888888888888888,\"#fdca26\"],[1.0,\"#f0f921\"]],\"sequentialminus\":[[0.0,\"#0d0887\"],[0.1111111111111111,\"#46039f\"],[0.2222222222222222,\"#7201a8\"],[0.3333333333333333,\"#9c179e\"],[0.4444444444444444,\"#bd3786\"],[0.5555555555555556,\"#d8576b\"],[0.6666666666666666,\"#ed7953\"],[0.7777777777777778,\"#fb9f3a\"],[0.8888888888888888,\"#fdca26\"],[1.0,\"#f0f921\"]],\"diverging\":[[0,\"#8e0152\"],[0.1,\"#c51b7d\"],[0.2,\"#de77ae\"],[0.3,\"#f1b6da\"],[0.4,\"#fde0ef\"],[0.5,\"#f7f7f7\"],[0.6,\"#e6f5d0\"],[0.7,\"#b8e186\"],[0.8,\"#7fbc41\"],[0.9,\"#4d9221\"],[1,\"#276419\"]]},\"xaxis\":{\"gridcolor\":\"white\",\"linecolor\":\"white\",\"ticks\":\"\",\"title\":{\"standoff\":15},\"zerolinecolor\":\"white\",\"automargin\":true,\"zerolinewidth\":2},\"yaxis\":{\"gridcolor\":\"white\",\"linecolor\":\"white\",\"ticks\":\"\",\"title\":{\"standoff\":15},\"zerolinecolor\":\"white\",\"automargin\":true,\"zerolinewidth\":2},\"scene\":{\"xaxis\":{\"backgroundcolor\":\"#E5ECF6\",\"gridcolor\":\"white\",\"linecolor\":\"white\",\"showbackground\":true,\"ticks\":\"\",\"zerolinecolor\":\"white\",\"gridwidth\":2},\"yaxis\":{\"backgroundcolor\":\"#E5ECF6\",\"gridcolor\":\"white\",\"linecolor\":\"white\",\"showbackground\":true,\"ticks\":\"\",\"zerolinecolor\":\"white\",\"gridwidth\":2},\"zaxis\":{\"backgroundcolor\":\"#E5ECF6\",\"gridcolor\":\"white\",\"linecolor\":\"white\",\"showbackground\":true,\"ticks\":\"\",\"zerolinecolor\":\"white\",\"gridwidth\":2}},\"shapedefaults\":{\"line\":{\"color\":\"#2a3f5f\"}},\"annotationdefaults\":{\"arrowcolor\":\"#2a3f5f\",\"arrowhead\":0,\"arrowwidth\":1},\"geo\":{\"bgcolor\":\"white\",\"landcolor\":\"#E5ECF6\",\"subunitcolor\":\"white\",\"showland\":true,\"showlakes\":true,\"lakecolor\":\"white\"},\"title\":{\"x\":0.05},\"mapbox\":{\"style\":\"light\"}}},\"geo\":{\"domain\":{\"x\":[0.0,1.0],\"y\":[0.0,1.0]},\"projection\":{\"type\":\"natural earth\"},\"center\":{},\"showland\":true,\"landcolor\":\"white\",\"showocean\":true,\"oceancolor\":\"lightblue\",\"coastlinecolor\":\"black\"},\"coloraxis\":{\"colorbar\":{\"title\":{\"text\":\"Number of Reviews\"}},\"colorscale\":[[0.0,\"#440154\"],[0.1111111111111111,\"#482878\"],[0.2222222222222222,\"#3e4989\"],[0.3333333333333333,\"#31688e\"],[0.4444444444444444,\"#26828e\"],[0.5555555555555556,\"#1f9e89\"],[0.6666666666666666,\"#35b779\"],[0.7777777777777778,\"#6ece58\"],[0.8888888888888888,\"#b5de2b\"],[1.0,\"#fde725\"]]},\"legend\":{\"tracegroupgap\":0,\"itemsizing\":\"constant\"},\"title\":{\"text\":\"Store Locations and Number of Reviews\"},\"width\":1000,\"height\":600,\"annotations\":[{\"arrowhead\":1,\"ax\":50,\"ay\":-50,\"showarrow\":true,\"text\":\"USA: High Number of Reviews\",\"x\":-95.712891,\"y\":37.09024},{\"arrowhead\":1,\"ax\":-50,\"ay\":50,\"showarrow\":true,\"text\":\"Canada: High Number of Reviews\",\"x\":-106.346771,\"y\":56.130366}]},                        {\"responsive\": true}                    ).then(function(){\n",
       "                            \n",
       "var gd = document.getElementById('6801fff3-df64-4445-a8f9-0a303316ca9a');\n",
       "var x = new MutationObserver(function (mutations, observer) {{\n",
       "        var display = window.getComputedStyle(gd).display;\n",
       "        if (!display || display === 'none') {{\n",
       "            console.log([gd, 'removed!']);\n",
       "            Plotly.purge(gd);\n",
       "            observer.disconnect();\n",
       "        }}\n",
       "}});\n",
       "\n",
       "// Listen for the removal of the full notebook cells\n",
       "var notebookContainer = gd.closest('#notebook-container');\n",
       "if (notebookContainer) {{\n",
       "    x.observe(notebookContainer, {childList: true});\n",
       "}}\n",
       "\n",
       "// Listen for the clearing of the current output cell\n",
       "var outputEl = gd.closest('.output');\n",
       "if (outputEl) {{\n",
       "    x.observe(outputEl, {childList: true});\n",
       "}}\n",
       "\n",
       "                        })                };                });            </script>        </div>"
      ]
     },
     "metadata": {},
     "output_type": "display_data"
    }
   ],
   "source": [
    "# Create the scatter map\n",
    "fig = px.scatter_geo(location_reviews,\n",
    "                     lat='latitude',\n",
    "                     lon='longitude',\n",
    "                     hover_name='store_location',\n",
    "                     size='num_reviews',\n",
    "                     color='num_reviews',  # Color by number of reviews\n",
    "                     color_continuous_scale=px.colors.sequential.Viridis,\n",
    "                     title='Store Locations and Number of Reviews',\n",
    "                     projection=\"natural earth\")  # Choose projection as needed\n",
    "\n",
    "# Update layout for better visualization and increase figure size\n",
    "fig.update_layout(\n",
    "    geo=dict(\n",
    "        showland=True,\n",
    "        landcolor=\"white\",\n",
    "        showocean=True,\n",
    "        oceancolor=\"lightblue\",\n",
    "        coastlinecolor=\"black\",\n",
    "    ),\n",
    "    coloraxis_colorbar=dict(\n",
    "        title=\"Number of Reviews\"\n",
    "    ),\n",
    "    width=1000,  # Adjust width as needed\n",
    "    height=600,  # Adjust height as needed\n",
    ")\n",
    "\n",
    "# Add annotations for insight\n",
    "fig.add_annotation(\n",
    "    x=-95.712891,  # Longitude of USA\n",
    "    y=37.09024,    # Latitude of USA\n",
    "    text=\"USA: High Number of Reviews\",\n",
    "    showarrow=True,\n",
    "    arrowhead=1,\n",
    "    ax=50,\n",
    "    ay=-50\n",
    ")\n",
    "\n",
    "fig.add_annotation(\n",
    "    x=-106.346771,  # Longitude of Canada\n",
    "    y=56.130366,    # Latitude of Canada\n",
    "    text=\"Canada: High Number of Reviews\",\n",
    "    showarrow=True,\n",
    "    arrowhead=1,\n",
    "    ax=-50,\n",
    "    ay=50\n",
    ")\n",
    "\n",
    "# Show the plot\n",
    "fig.show()"
   ]
  },
  {
   "cell_type": "markdown",
   "id": "da8de100-631c-45d7-8d99-178711528e0e",
   "metadata": {},
   "source": [
    "### Insight:\n",
    "\n",
    "- Canada and the USA have a high number of reviews indicating high number of angedgement"
   ]
  },
  {
   "cell_type": "code",
   "execution_count": 102,
   "id": "8e6f0410-5967-440e-a7c6-3708fc20d0da",
   "metadata": {},
   "outputs": [],
   "source": [
    "# # Create new features\n",
    "df_copy['review_length'] = df_copy['review'].apply(len)\n",
    "df_copy['title_length'] = df_copy['title'].apply(len)\n"
   ]
  },
  {
   "cell_type": "code",
   "execution_count": 73,
   "id": "38efc52b-ee20-4cc0-bca0-5b62600d373e",
   "metadata": {},
   "outputs": [],
   "source": [
    "\n",
    "# Convert date-related columns to datetime format\n",
    "# df_copy['date'] = pd.to_datetime(df_copy[['year', 'month', 'date']], errors='coerce')"
   ]
  },
  {
   "cell_type": "code",
   "execution_count": 103,
   "id": "1c704274-88d0-4286-8368-8edb5415ab66",
   "metadata": {},
   "outputs": [
    {
     "data": {
      "text/html": [
       "<div>\n",
       "<style scoped>\n",
       "    .dataframe tbody tr th:only-of-type {\n",
       "        vertical-align: middle;\n",
       "    }\n",
       "\n",
       "    .dataframe tbody tr th {\n",
       "        vertical-align: top;\n",
       "    }\n",
       "\n",
       "    .dataframe thead th {\n",
       "        text-align: right;\n",
       "    }\n",
       "</style>\n",
       "<table border=\"1\" class=\"dataframe\">\n",
       "  <thead>\n",
       "    <tr style=\"text-align: right;\">\n",
       "      <th></th>\n",
       "      <th>reviewer_id</th>\n",
       "      <th>store_location</th>\n",
       "      <th>latitude</th>\n",
       "      <th>longitude</th>\n",
       "      <th>date</th>\n",
       "      <th>month</th>\n",
       "      <th>year</th>\n",
       "      <th>title</th>\n",
       "      <th>review</th>\n",
       "      <th>review-label</th>\n",
       "      <th>review_length</th>\n",
       "      <th>title_length</th>\n",
       "    </tr>\n",
       "  </thead>\n",
       "  <tbody>\n",
       "    <tr>\n",
       "      <th>0</th>\n",
       "      <td>0.0</td>\n",
       "      <td>US</td>\n",
       "      <td>37.090240</td>\n",
       "      <td>-95.712891</td>\n",
       "      <td>2023</td>\n",
       "      <td>6</td>\n",
       "      <td>2015 00:00:00</td>\n",
       "      <td>Great help with lost order</td>\n",
       "      <td>I had an order that was lost in transit. When ...</td>\n",
       "      <td>5</td>\n",
       "      <td>196</td>\n",
       "      <td>26</td>\n",
       "    </tr>\n",
       "    <tr>\n",
       "      <th>1</th>\n",
       "      <td>1.0</td>\n",
       "      <td>US</td>\n",
       "      <td>37.090240</td>\n",
       "      <td>-95.712891</td>\n",
       "      <td>2023</td>\n",
       "      <td>6</td>\n",
       "      <td>2024 00:00:00</td>\n",
       "      <td>I ordered the wrong size tee and hadï¿½ï¿½ï¿½</td>\n",
       "      <td>I ordered the wrong size tee and had difficult...</td>\n",
       "      <td>5</td>\n",
       "      <td>235</td>\n",
       "      <td>45</td>\n",
       "    </tr>\n",
       "    <tr>\n",
       "      <th>2</th>\n",
       "      <td>2.0</td>\n",
       "      <td>US</td>\n",
       "      <td>37.090240</td>\n",
       "      <td>-95.712891</td>\n",
       "      <td>2023</td>\n",
       "      <td>6</td>\n",
       "      <td>2017 00:00:00</td>\n",
       "      <td>These guys offer the best customerï¿½ï¿½ï¿½</td>\n",
       "      <td>These guys offer the best customer service in ...</td>\n",
       "      <td>5</td>\n",
       "      <td>161</td>\n",
       "      <td>43</td>\n",
       "    </tr>\n",
       "    <tr>\n",
       "      <th>3</th>\n",
       "      <td>3.0</td>\n",
       "      <td>US</td>\n",
       "      <td>37.090240</td>\n",
       "      <td>-95.712891</td>\n",
       "      <td>2023</td>\n",
       "      <td>6</td>\n",
       "      <td>2024 00:00:00</td>\n",
       "      <td>Good Stuff</td>\n",
       "      <td>Looked for an obscure phrase on a shirt. Teepu...</td>\n",
       "      <td>5</td>\n",
       "      <td>191</td>\n",
       "      <td>10</td>\n",
       "    </tr>\n",
       "    <tr>\n",
       "      <th>4</th>\n",
       "      <td>4.0</td>\n",
       "      <td>CA</td>\n",
       "      <td>56.130366</td>\n",
       "      <td>-106.346771</td>\n",
       "      <td>2023</td>\n",
       "      <td>6</td>\n",
       "      <td>2023 00:00:00</td>\n",
       "      <td>My order arrived in a good timelyï¿½ï¿½ï¿½</td>\n",
       "      <td>My order arrived in a good timely fashion &amp; th...</td>\n",
       "      <td>4</td>\n",
       "      <td>314</td>\n",
       "      <td>42</td>\n",
       "    </tr>\n",
       "  </tbody>\n",
       "</table>\n",
       "</div>"
      ],
      "text/plain": [
       "   reviewer_id store_location   latitude   longitude  date  month  \\\n",
       "0          0.0             US  37.090240  -95.712891  2023      6   \n",
       "1          1.0             US  37.090240  -95.712891  2023      6   \n",
       "2          2.0             US  37.090240  -95.712891  2023      6   \n",
       "3          3.0             US  37.090240  -95.712891  2023      6   \n",
       "4          4.0             CA  56.130366 -106.346771  2023      6   \n",
       "\n",
       "            year                                          title  \\\n",
       "0  2015 00:00:00                     Great help with lost order   \n",
       "1  2024 00:00:00  I ordered the wrong size tee and hadï¿½ï¿½ï¿½   \n",
       "2  2017 00:00:00    These guys offer the best customerï¿½ï¿½ï¿½   \n",
       "3  2024 00:00:00                                     Good Stuff   \n",
       "4  2023 00:00:00     My order arrived in a good timelyï¿½ï¿½ï¿½   \n",
       "\n",
       "                                              review  review-label  \\\n",
       "0  I had an order that was lost in transit. When ...             5   \n",
       "1  I ordered the wrong size tee and had difficult...             5   \n",
       "2  These guys offer the best customer service in ...             5   \n",
       "3  Looked for an obscure phrase on a shirt. Teepu...             5   \n",
       "4  My order arrived in a good timely fashion & th...             4   \n",
       "\n",
       "   review_length  title_length  \n",
       "0            196            26  \n",
       "1            235            45  \n",
       "2            161            43  \n",
       "3            191            10  \n",
       "4            314            42  "
      ]
     },
     "execution_count": 103,
     "metadata": {},
     "output_type": "execute_result"
    }
   ],
   "source": [
    "df_copy.head()\n"
   ]
  },
  {
   "cell_type": "code",
   "execution_count": 104,
   "id": "80223899-88ba-4179-a3d0-2350a38a6b5c",
   "metadata": {},
   "outputs": [
    {
     "data": {
      "text/html": [
       "<div>\n",
       "<style scoped>\n",
       "    .dataframe tbody tr th:only-of-type {\n",
       "        vertical-align: middle;\n",
       "    }\n",
       "\n",
       "    .dataframe tbody tr th {\n",
       "        vertical-align: top;\n",
       "    }\n",
       "\n",
       "    .dataframe thead th {\n",
       "        text-align: right;\n",
       "    }\n",
       "</style>\n",
       "<table border=\"1\" class=\"dataframe\">\n",
       "  <thead>\n",
       "    <tr style=\"text-align: right;\">\n",
       "      <th></th>\n",
       "      <th>store_location</th>\n",
       "      <th>date</th>\n",
       "      <th>month</th>\n",
       "      <th>title</th>\n",
       "      <th>review</th>\n",
       "      <th>review-label</th>\n",
       "      <th>review_length</th>\n",
       "      <th>title_length</th>\n",
       "    </tr>\n",
       "  </thead>\n",
       "  <tbody>\n",
       "    <tr>\n",
       "      <th>0</th>\n",
       "      <td>US</td>\n",
       "      <td>2023</td>\n",
       "      <td>6</td>\n",
       "      <td>Great help with lost order</td>\n",
       "      <td>I had an order that was lost in transit. When ...</td>\n",
       "      <td>5</td>\n",
       "      <td>196</td>\n",
       "      <td>26</td>\n",
       "    </tr>\n",
       "    <tr>\n",
       "      <th>1</th>\n",
       "      <td>US</td>\n",
       "      <td>2023</td>\n",
       "      <td>6</td>\n",
       "      <td>I ordered the wrong size tee and hadï¿½ï¿½ï¿½</td>\n",
       "      <td>I ordered the wrong size tee and had difficult...</td>\n",
       "      <td>5</td>\n",
       "      <td>235</td>\n",
       "      <td>45</td>\n",
       "    </tr>\n",
       "    <tr>\n",
       "      <th>2</th>\n",
       "      <td>US</td>\n",
       "      <td>2023</td>\n",
       "      <td>6</td>\n",
       "      <td>These guys offer the best customerï¿½ï¿½ï¿½</td>\n",
       "      <td>These guys offer the best customer service in ...</td>\n",
       "      <td>5</td>\n",
       "      <td>161</td>\n",
       "      <td>43</td>\n",
       "    </tr>\n",
       "    <tr>\n",
       "      <th>3</th>\n",
       "      <td>US</td>\n",
       "      <td>2023</td>\n",
       "      <td>6</td>\n",
       "      <td>Good Stuff</td>\n",
       "      <td>Looked for an obscure phrase on a shirt. Teepu...</td>\n",
       "      <td>5</td>\n",
       "      <td>191</td>\n",
       "      <td>10</td>\n",
       "    </tr>\n",
       "    <tr>\n",
       "      <th>4</th>\n",
       "      <td>CA</td>\n",
       "      <td>2023</td>\n",
       "      <td>6</td>\n",
       "      <td>My order arrived in a good timelyï¿½ï¿½ï¿½</td>\n",
       "      <td>My order arrived in a good timely fashion &amp; th...</td>\n",
       "      <td>4</td>\n",
       "      <td>314</td>\n",
       "      <td>42</td>\n",
       "    </tr>\n",
       "  </tbody>\n",
       "</table>\n",
       "</div>"
      ],
      "text/plain": [
       "  store_location  date  month                                          title  \\\n",
       "0             US  2023      6                     Great help with lost order   \n",
       "1             US  2023      6  I ordered the wrong size tee and hadï¿½ï¿½ï¿½   \n",
       "2             US  2023      6    These guys offer the best customerï¿½ï¿½ï¿½   \n",
       "3             US  2023      6                                     Good Stuff   \n",
       "4             CA  2023      6     My order arrived in a good timelyï¿½ï¿½ï¿½   \n",
       "\n",
       "                                              review  review-label  \\\n",
       "0  I had an order that was lost in transit. When ...             5   \n",
       "1  I ordered the wrong size tee and had difficult...             5   \n",
       "2  These guys offer the best customer service in ...             5   \n",
       "3  Looked for an obscure phrase on a shirt. Teepu...             5   \n",
       "4  My order arrived in a good timely fashion & th...             4   \n",
       "\n",
       "   review_length  title_length  \n",
       "0            196            26  \n",
       "1            235            45  \n",
       "2            161            43  \n",
       "3            191            10  \n",
       "4            314            42  "
      ]
     },
     "execution_count": 104,
     "metadata": {},
     "output_type": "execute_result"
    }
   ],
   "source": [
    "\n",
    "# Drop columns\n",
    "columns_to_drop = [\n",
    "    'reviewer_id',  'year', 'latitude', 'longitude'\n",
    "]\n",
    "\n",
    "df_copy = df_copy.drop(columns=columns_to_drop)\n",
    "df_copy.head()\n"
   ]
  },
  {
   "cell_type": "code",
   "execution_count": 181,
   "id": "6c3fd3b8-bc94-432a-8206-5ac7851fb6c8",
   "metadata": {},
   "outputs": [],
   "source": [
    "from sklearn.preprocessing import OneHotEncoder, StandardScaler, LabelEncoder\n",
    "from preprocessing_function import CustomPreprocess\n",
    "from sklearn.model_selection import train_test_split\n",
    "import nltk\n",
    "from nltk.tokenize import word_tokenize\n",
    "from tensorflow.keras.preprocessing.text import Tokenizer\n",
    "from tensorflow.keras.models import Sequential\n",
    "from tensorflow.keras.layers import Embedding, LSTM, Dense, Dropout\n",
    "from tensorflow.keras.optimizers import Adam\n",
    "from tensorflow.keras.callbacks import EarlyStopping\n",
    "import os\n"
   ]
  },
  {
   "cell_type": "code",
   "execution_count": 121,
   "id": "cbf7240d-2977-44c8-96a6-7f2b26dc4a7e",
   "metadata": {},
   "outputs": [
    {
     "name": "stdout",
     "output_type": "stream",
     "text": [
      "['__builtins__', '__cached__', '__doc__', '__file__', '__loader__', '__name__', '__package__', '__path__', '__spec__', 'image', 'image_dataset_from_directory', 'sequence', 'text_dataset_from_directory', 'timeseries_dataset_from_array']\n"
     ]
    }
   ],
   "source": [
    "import keras.preprocessing\n",
    "print(dir(keras.preprocessing))"
   ]
  },
  {
   "cell_type": "code",
   "execution_count": 105,
   "id": "60228a41-8eb1-4048-9de8-ef4847f4c4e1",
   "metadata": {},
   "outputs": [],
   "source": [
    "\n",
    "# Standardize numerical features\n",
    "scaler = StandardScaler()\n",
    "df_copy[['review_length', 'title_length', 'date', 'month']] = scaler.fit_transform(df_copy[['review_length', 'title_length', 'date', 'month']])\n"
   ]
  },
  {
   "cell_type": "code",
   "execution_count": 106,
   "id": "cb53c879-f0ca-43a2-806c-4dd6644c43ab",
   "metadata": {},
   "outputs": [
    {
     "data": {
      "text/html": [
       "<div>\n",
       "<style scoped>\n",
       "    .dataframe tbody tr th:only-of-type {\n",
       "        vertical-align: middle;\n",
       "    }\n",
       "\n",
       "    .dataframe tbody tr th {\n",
       "        vertical-align: top;\n",
       "    }\n",
       "\n",
       "    .dataframe thead th {\n",
       "        text-align: right;\n",
       "    }\n",
       "</style>\n",
       "<table border=\"1\" class=\"dataframe\">\n",
       "  <thead>\n",
       "    <tr style=\"text-align: right;\">\n",
       "      <th></th>\n",
       "      <th>store_location</th>\n",
       "      <th>date</th>\n",
       "      <th>month</th>\n",
       "      <th>title</th>\n",
       "      <th>review</th>\n",
       "      <th>review-label</th>\n",
       "      <th>review_length</th>\n",
       "      <th>title_length</th>\n",
       "    </tr>\n",
       "  </thead>\n",
       "  <tbody>\n",
       "    <tr>\n",
       "      <th>0</th>\n",
       "      <td>126</td>\n",
       "      <td>1.522062</td>\n",
       "      <td>-0.331836</td>\n",
       "      <td>Great help with lost order</td>\n",
       "      <td>I had an order that was lost in transit. When ...</td>\n",
       "      <td>5</td>\n",
       "      <td>0.359293</td>\n",
       "      <td>-0.182148</td>\n",
       "    </tr>\n",
       "    <tr>\n",
       "      <th>1</th>\n",
       "      <td>126</td>\n",
       "      <td>1.522062</td>\n",
       "      <td>-0.331836</td>\n",
       "      <td>I ordered the wrong size tee and hadï¿½ï¿½ï¿½</td>\n",
       "      <td>I ordered the wrong size tee and had difficult...</td>\n",
       "      <td>5</td>\n",
       "      <td>0.640583</td>\n",
       "      <td>1.113110</td>\n",
       "    </tr>\n",
       "    <tr>\n",
       "      <th>2</th>\n",
       "      <td>126</td>\n",
       "      <td>1.522062</td>\n",
       "      <td>-0.331836</td>\n",
       "      <td>These guys offer the best customerï¿½ï¿½ï¿½</td>\n",
       "      <td>These guys offer the best customer service in ...</td>\n",
       "      <td>5</td>\n",
       "      <td>0.106852</td>\n",
       "      <td>0.976767</td>\n",
       "    </tr>\n",
       "    <tr>\n",
       "      <th>3</th>\n",
       "      <td>126</td>\n",
       "      <td>1.522062</td>\n",
       "      <td>-0.331836</td>\n",
       "      <td>Good Stuff</td>\n",
       "      <td>Looked for an obscure phrase on a shirt. Teepu...</td>\n",
       "      <td>5</td>\n",
       "      <td>0.323230</td>\n",
       "      <td>-1.272892</td>\n",
       "    </tr>\n",
       "    <tr>\n",
       "      <th>4</th>\n",
       "      <td>17</td>\n",
       "      <td>1.522062</td>\n",
       "      <td>-0.331836</td>\n",
       "      <td>My order arrived in a good timelyï¿½ï¿½ï¿½</td>\n",
       "      <td>My order arrived in a good timely fashion &amp; th...</td>\n",
       "      <td>4</td>\n",
       "      <td>1.210377</td>\n",
       "      <td>0.908595</td>\n",
       "    </tr>\n",
       "  </tbody>\n",
       "</table>\n",
       "</div>"
      ],
      "text/plain": [
       "   store_location      date     month  \\\n",
       "0             126  1.522062 -0.331836   \n",
       "1             126  1.522062 -0.331836   \n",
       "2             126  1.522062 -0.331836   \n",
       "3             126  1.522062 -0.331836   \n",
       "4              17  1.522062 -0.331836   \n",
       "\n",
       "                                           title  \\\n",
       "0                     Great help with lost order   \n",
       "1  I ordered the wrong size tee and hadï¿½ï¿½ï¿½   \n",
       "2    These guys offer the best customerï¿½ï¿½ï¿½   \n",
       "3                                     Good Stuff   \n",
       "4     My order arrived in a good timelyï¿½ï¿½ï¿½   \n",
       "\n",
       "                                              review  review-label  \\\n",
       "0  I had an order that was lost in transit. When ...             5   \n",
       "1  I ordered the wrong size tee and had difficult...             5   \n",
       "2  These guys offer the best customer service in ...             5   \n",
       "3  Looked for an obscure phrase on a shirt. Teepu...             5   \n",
       "4  My order arrived in a good timely fashion & th...             4   \n",
       "\n",
       "   review_length  title_length  \n",
       "0       0.359293     -0.182148  \n",
       "1       0.640583      1.113110  \n",
       "2       0.106852      0.976767  \n",
       "3       0.323230     -1.272892  \n",
       "4       1.210377      0.908595  "
      ]
     },
     "execution_count": 106,
     "metadata": {},
     "output_type": "execute_result"
    }
   ],
   "source": [
    "\n",
    "# Encode categorical variables\n",
    "label_encoder = LabelEncoder()\n",
    "df_copy['store_location'] = label_encoder.fit_transform(df_copy['store_location'])\n",
    "df_copy.head()"
   ]
  },
  {
   "cell_type": "code",
   "execution_count": 109,
   "id": "45e86f85-5d10-461d-a9f1-08f058187106",
   "metadata": {},
   "outputs": [
    {
     "data": {
      "text/plain": [
       "'best days life '"
      ]
     },
     "execution_count": 109,
     "metadata": {},
     "output_type": "execute_result"
    }
   ],
   "source": [
    "# Testing\n",
    "\n",
    "custom = CustomPreprocess()\n",
    "custom.preprocess_text(\"Those were the best days of my life!\")\n"
   ]
  },
  {
   "cell_type": "code",
   "execution_count": 110,
   "id": "c452df28-0181-4fc9-ab1f-390ca2da0da6",
   "metadata": {},
   "outputs": [],
   "source": [
    "# Calling preprocessing_text function on entire dataset\n",
    "df_copy['title'] = df_copy['title'].apply(custom.preprocess_text)\n",
    "df_copy['review'] = df_copy['review'].apply(custom.preprocess_text)\n",
    "\n"
   ]
  },
  {
   "cell_type": "code",
   "execution_count": 111,
   "id": "3d770be6-a68d-4cf9-8b14-96a69bc98116",
   "metadata": {},
   "outputs": [
    {
     "data": {
      "text/html": [
       "<div>\n",
       "<style scoped>\n",
       "    .dataframe tbody tr th:only-of-type {\n",
       "        vertical-align: middle;\n",
       "    }\n",
       "\n",
       "    .dataframe tbody tr th {\n",
       "        vertical-align: top;\n",
       "    }\n",
       "\n",
       "    .dataframe thead th {\n",
       "        text-align: right;\n",
       "    }\n",
       "</style>\n",
       "<table border=\"1\" class=\"dataframe\">\n",
       "  <thead>\n",
       "    <tr style=\"text-align: right;\">\n",
       "      <th></th>\n",
       "      <th>store_location</th>\n",
       "      <th>date</th>\n",
       "      <th>month</th>\n",
       "      <th>title</th>\n",
       "      <th>review</th>\n",
       "      <th>review-label</th>\n",
       "      <th>review_length</th>\n",
       "      <th>title_length</th>\n",
       "    </tr>\n",
       "  </thead>\n",
       "  <tbody>\n",
       "    <tr>\n",
       "      <th>0</th>\n",
       "      <td>126</td>\n",
       "      <td>1.522062</td>\n",
       "      <td>-0.331836</td>\n",
       "      <td>great help lost order</td>\n",
       "      <td>order lost transit called help customer servic...</td>\n",
       "      <td>5</td>\n",
       "      <td>0.359293</td>\n",
       "      <td>-0.182148</td>\n",
       "    </tr>\n",
       "    <tr>\n",
       "      <th>1</th>\n",
       "      <td>126</td>\n",
       "      <td>1.522062</td>\n",
       "      <td>-0.331836</td>\n",
       "      <td>ordered wrong size tee</td>\n",
       "      <td>ordered wrong size tee difficulties returning ...</td>\n",
       "      <td>5</td>\n",
       "      <td>0.640583</td>\n",
       "      <td>1.113110</td>\n",
       "    </tr>\n",
       "    <tr>\n",
       "      <th>2</th>\n",
       "      <td>126</td>\n",
       "      <td>1.522062</td>\n",
       "      <td>-0.331836</td>\n",
       "      <td>guys offer best customer</td>\n",
       "      <td>guys offer best customer service retail produc...</td>\n",
       "      <td>5</td>\n",
       "      <td>0.106852</td>\n",
       "      <td>0.976767</td>\n",
       "    </tr>\n",
       "    <tr>\n",
       "      <th>3</th>\n",
       "      <td>126</td>\n",
       "      <td>1.522062</td>\n",
       "      <td>-0.331836</td>\n",
       "      <td>good stuff</td>\n",
       "      <td>looked obscure phrase shirt teepublic process ...</td>\n",
       "      <td>5</td>\n",
       "      <td>0.323230</td>\n",
       "      <td>-1.272892</td>\n",
       "    </tr>\n",
       "    <tr>\n",
       "      <th>4</th>\n",
       "      <td>17</td>\n",
       "      <td>1.522062</td>\n",
       "      <td>-0.331836</td>\n",
       "      <td>order arrived good timely</td>\n",
       "      <td>order arrived good timely fashion items receiv...</td>\n",
       "      <td>4</td>\n",
       "      <td>1.210377</td>\n",
       "      <td>0.908595</td>\n",
       "    </tr>\n",
       "    <tr>\n",
       "      <th>...</th>\n",
       "      <td>...</td>\n",
       "      <td>...</td>\n",
       "      <td>...</td>\n",
       "      <td>...</td>\n",
       "      <td>...</td>\n",
       "      <td>...</td>\n",
       "      <td>...</td>\n",
       "      <td>...</td>\n",
       "    </tr>\n",
       "    <tr>\n",
       "      <th>278094</th>\n",
       "      <td>126</td>\n",
       "      <td>-2.085189</td>\n",
       "      <td>-0.874958</td>\n",
       "      <td>great site</td>\n",
       "      <td>great site supports independent artists giving...</td>\n",
       "      <td>5</td>\n",
       "      <td>-0.145588</td>\n",
       "      <td>-1.272892</td>\n",
       "    </tr>\n",
       "    <tr>\n",
       "      <th>278095</th>\n",
       "      <td>126</td>\n",
       "      <td>-2.085189</td>\n",
       "      <td>-0.874958</td>\n",
       "      <td>highly recommend</td>\n",
       "      <td>delivery quick arrives promised shirts quality...</td>\n",
       "      <td>5</td>\n",
       "      <td>-0.520642</td>\n",
       "      <td>-0.795692</td>\n",
       "    </tr>\n",
       "    <tr>\n",
       "      <th>278096</th>\n",
       "      <td>50</td>\n",
       "      <td>-2.085189</td>\n",
       "      <td>-0.874958</td>\n",
       "      <td>great quality</td>\n",
       "      <td>great quality fast delivery would recommend</td>\n",
       "      <td>5</td>\n",
       "      <td>-0.722595</td>\n",
       "      <td>-1.068378</td>\n",
       "    </tr>\n",
       "    <tr>\n",
       "      <th>278097</th>\n",
       "      <td>126</td>\n",
       "      <td>-2.085189</td>\n",
       "      <td>-0.874958</td>\n",
       "      <td>dudes rock</td>\n",
       "      <td>dudes rock seriously</td>\n",
       "      <td>5</td>\n",
       "      <td>-0.895697</td>\n",
       "      <td>-1.204721</td>\n",
       "    </tr>\n",
       "    <tr>\n",
       "      <th>278098</th>\n",
       "      <td>126</td>\n",
       "      <td>-2.085189</td>\n",
       "      <td>-0.874958</td>\n",
       "      <td>shipping fast shirt</td>\n",
       "      <td>shipping fast shirt right good company suicide...</td>\n",
       "      <td>5</td>\n",
       "      <td>-0.520642</td>\n",
       "      <td>1.249453</td>\n",
       "    </tr>\n",
       "  </tbody>\n",
       "</table>\n",
       "<p>247590 rows × 8 columns</p>\n",
       "</div>"
      ],
      "text/plain": [
       "        store_location      date     month                       title  \\\n",
       "0                  126  1.522062 -0.331836       great help lost order   \n",
       "1                  126  1.522062 -0.331836     ordered wrong size tee    \n",
       "2                  126  1.522062 -0.331836   guys offer best customer    \n",
       "3                  126  1.522062 -0.331836                  good stuff   \n",
       "4                   17  1.522062 -0.331836  order arrived good timely    \n",
       "...                ...       ...       ...                         ...   \n",
       "278094             126 -2.085189 -0.874958                  great site   \n",
       "278095             126 -2.085189 -0.874958           highly recommend    \n",
       "278096              50 -2.085189 -0.874958               great quality   \n",
       "278097             126 -2.085189 -0.874958                 dudes rock    \n",
       "278098             126 -2.085189 -0.874958        shipping fast shirt    \n",
       "\n",
       "                                                   review  review-label  \\\n",
       "0       order lost transit called help customer servic...             5   \n",
       "1       ordered wrong size tee difficulties returning ...             5   \n",
       "2       guys offer best customer service retail produc...             5   \n",
       "3       looked obscure phrase shirt teepublic process ...             5   \n",
       "4       order arrived good timely fashion items receiv...             4   \n",
       "...                                                   ...           ...   \n",
       "278094  great site supports independent artists giving...             5   \n",
       "278095  delivery quick arrives promised shirts quality...             5   \n",
       "278096       great quality fast delivery would recommend              5   \n",
       "278097                              dudes rock seriously              5   \n",
       "278098  shipping fast shirt right good company suicide...             5   \n",
       "\n",
       "        review_length  title_length  \n",
       "0            0.359293     -0.182148  \n",
       "1            0.640583      1.113110  \n",
       "2            0.106852      0.976767  \n",
       "3            0.323230     -1.272892  \n",
       "4            1.210377      0.908595  \n",
       "...               ...           ...  \n",
       "278094      -0.145588     -1.272892  \n",
       "278095      -0.520642     -0.795692  \n",
       "278096      -0.722595     -1.068378  \n",
       "278097      -0.895697     -1.204721  \n",
       "278098      -0.520642      1.249453  \n",
       "\n",
       "[247590 rows x 8 columns]"
      ]
     },
     "execution_count": 111,
     "metadata": {},
     "output_type": "execute_result"
    }
   ],
   "source": [
    "# Confirmation\n",
    "df_copy"
   ]
  },
  {
   "cell_type": "code",
   "execution_count": 150,
   "id": "1a5771b0-3ca2-4822-929b-7be87ec10275",
   "metadata": {},
   "outputs": [],
   "source": [
    "# Split your data into training and testing sets\n",
    "X = df_copy.drop(['review-label'], axis=1)  # features\n",
    "y = df_copy['review-label']  # target variable\n"
   ]
  },
  {
   "cell_type": "code",
   "execution_count": 174,
   "id": "c2156823-ec36-43ac-8c68-38ca8a14f84a",
   "metadata": {},
   "outputs": [],
   "source": [
    "# The train set will be used to train our deep learning models \n",
    "# while test set will be used to evaluate how well our model performs \n",
    "\n",
    "X_train, X_test, y_train, y_test = train_test_split(X, y, test_size=0.20, random_state=42)\n"
   ]
  },
  {
   "cell_type": "markdown",
   "id": "3e73574d-450b-4008-935e-2ef6d7a05e1d",
   "metadata": {},
   "source": [
    "## Preparing embedding layer\n",
    "\n",
    "Embedding layer converts our textual data into numeric form. It is then used as the first layer for the deep learning models\n"
   ]
  },
  {
   "cell_type": "code",
   "execution_count": 175,
   "id": "aba78151-4acf-4b51-917c-d11a8a56b517",
   "metadata": {},
   "outputs": [],
   "source": [
    "# Embedding layer expects the words to be in numeric form \n",
    "# Using Tokenizer function from keras.preprocessing.text library\n",
    "# Method fit_on_text trains the tokenizer \n",
    "# Method texts_to_sequences converts sentences to their numeric form\n",
    "\n",
    "# Create a Tokenizer instance\n",
    "word_tokenizer = Tokenizer()\n",
    "\n",
    "# Fit the tokenizer on the training data\n",
    "word_tokenizer.fit_on_texts(X_train[\"review\"])\n",
    "\n",
    "# Convert the training and testing data to sequences\n",
    "X_train_sequences = word_tokenizer.texts_to_sequences(X_train['review'])\n",
    "X_test_sequences = word_tokenizer.texts_to_sequences(X_test['review'])\n"
   ]
  },
  {
   "cell_type": "code",
   "execution_count": 135,
   "id": "587d6b8d-965c-4f70-9147-445fcdd0152e",
   "metadata": {},
   "outputs": [],
   "source": [
    "# import io\n",
    "# import json\n",
    "# from tensorflow.keras.preprocessing.sequence import pad_sequences\n"
   ]
  },
  {
   "cell_type": "code",
   "execution_count": 154,
   "id": "1b4ac206-d1c2-476e-8516-f1b17e14aad0",
   "metadata": {},
   "outputs": [],
   "source": [
    "# X_train"
   ]
  },
  {
   "cell_type": "code",
   "execution_count": 128,
   "id": "aec867cf-3760-4b57-b125-acd2140587aa",
   "metadata": {},
   "outputs": [],
   "source": [
    "# # Saving\n",
    "# tokenizer_json = word_tokenizer.to_json()\n",
    "# with io.open('tokenizer.json', 'w', encoding='utf-8') as f:\n",
    "#     f.write(json.dumps(tokenizer_json, ensure_ascii=False))\n",
    "    "
   ]
  },
  {
   "cell_type": "code",
   "execution_count": 176,
   "id": "f2d4f5d6-7a72-4232-b584-cb98db77701f",
   "metadata": {},
   "outputs": [],
   "source": [
    "# # Adding 1 to store dimensions for words for which no pretrained word embeddings exist\n",
    "\n",
    "# vocab_length = len(word_tokenizer.word_index) + 1\n",
    "\n",
    "# vocab_length\n"
   ]
  },
  {
   "cell_type": "code",
   "execution_count": 177,
   "id": "0d14c0ce-5edb-4570-9456-18210a1205a2",
   "metadata": {},
   "outputs": [],
   "source": [
    "# Padding all reviews to fixed length 100\n",
    "\n",
    "maxlen = 100\n",
    "\n",
    "# Pad sequences to ensure uniform length\n",
    "X_train_padded = pad_sequences(X_train_sequences, padding='post', maxlen=maxlen)\n",
    "X_test_padded = pad_sequences(X_test_sequences, padding='post', maxlen=maxlen)\n"
   ]
  },
  {
   "cell_type": "code",
   "execution_count": 190,
   "id": "5a00705f-5c2e-490b-9f19-21a9062afdfc",
   "metadata": {},
   "outputs": [],
   "source": [
    "# Load GloVe embeddings\n",
    "embeddings_index = {}\n",
    "with open('glove.6B.100d.txt', encoding='utf-8') as f:\n",
    "    for line in f:\n",
    "        values = line.split()\n",
    "        word = values[0]\n",
    "        coefs = np.asarray(values[1:], dtype='float32')\n",
    "        embeddings_index[word] = coefs\n",
    "\n",
    "embedding_dim = 100\n",
    "word_index = word_tokenizer.word_index\n",
    "embedding_matrix = np.zeros((len(word_index) + 1, embedding_dim))\n",
    "for word, i in word_index.items():\n",
    "    embedding_vector = embeddings_index.get(word)\n",
    "    if embedding_vector is not None:\n",
    "        embedding_matrix[i] = embedding_vector\n"
   ]
  },
  {
   "cell_type": "code",
   "execution_count": 195,
   "id": "a2ae2a20-8905-4108-863d-08d13d307457",
   "metadata": {},
   "outputs": [
    {
     "ename": "ValueError",
     "evalue": "You called `set_weights(weights)` on layer 'embedding_15' with a weight list of length 1, but the layer was expecting 0 weights.",
     "output_type": "error",
     "traceback": [
      "\u001b[1;31m---------------------------------------------------------------------------\u001b[0m",
      "\u001b[1;31mValueError\u001b[0m                                Traceback (most recent call last)",
      "Cell \u001b[1;32mIn[195], line 15\u001b[0m\n\u001b[0;32m     12\u001b[0m model\u001b[38;5;241m.\u001b[39madd(Dense(units\u001b[38;5;241m=\u001b[39m\u001b[38;5;241m1\u001b[39m, activation\u001b[38;5;241m=\u001b[39m\u001b[38;5;124m'\u001b[39m\u001b[38;5;124msigmoid\u001b[39m\u001b[38;5;124m'\u001b[39m))\n\u001b[0;32m     14\u001b[0m \u001b[38;5;66;03m# Set weights for the Embedding layer\u001b[39;00m\n\u001b[1;32m---> 15\u001b[0m embedding_layer\u001b[38;5;241m.\u001b[39mset_weights([embedding_matrix])\n\u001b[0;32m     16\u001b[0m embedding_layer\u001b[38;5;241m.\u001b[39mtrainable \u001b[38;5;241m=\u001b[39m \u001b[38;5;28;01mFalse\u001b[39;00m  \u001b[38;5;66;03m# Freeze the embedding layer\u001b[39;00m\n\u001b[0;32m     18\u001b[0m \u001b[38;5;66;03m# Compile the model\u001b[39;00m\n",
      "File \u001b[1;32m~\\anaconda3\\Lib\\site-packages\\keras\\src\\layers\\layer.py:647\u001b[0m, in \u001b[0;36mLayer.set_weights\u001b[1;34m(self, weights)\u001b[0m\n\u001b[0;32m    645\u001b[0m layer_weights \u001b[38;5;241m=\u001b[39m \u001b[38;5;28mself\u001b[39m\u001b[38;5;241m.\u001b[39mweights\n\u001b[0;32m    646\u001b[0m \u001b[38;5;28;01mif\u001b[39;00m \u001b[38;5;28mlen\u001b[39m(layer_weights) \u001b[38;5;241m!=\u001b[39m \u001b[38;5;28mlen\u001b[39m(weights):\n\u001b[1;32m--> 647\u001b[0m     \u001b[38;5;28;01mraise\u001b[39;00m \u001b[38;5;167;01mValueError\u001b[39;00m(\n\u001b[0;32m    648\u001b[0m         \u001b[38;5;124mf\u001b[39m\u001b[38;5;124m\"\u001b[39m\u001b[38;5;124mYou called `set_weights(weights)` on layer \u001b[39m\u001b[38;5;124m'\u001b[39m\u001b[38;5;132;01m{\u001b[39;00m\u001b[38;5;28mself\u001b[39m\u001b[38;5;241m.\u001b[39mname\u001b[38;5;132;01m}\u001b[39;00m\u001b[38;5;124m'\u001b[39m\u001b[38;5;124m \u001b[39m\u001b[38;5;124m\"\u001b[39m\n\u001b[0;32m    649\u001b[0m         \u001b[38;5;124mf\u001b[39m\u001b[38;5;124m\"\u001b[39m\u001b[38;5;124mwith a weight list of length \u001b[39m\u001b[38;5;132;01m{\u001b[39;00m\u001b[38;5;28mlen\u001b[39m(weights)\u001b[38;5;132;01m}\u001b[39;00m\u001b[38;5;124m, but the layer \u001b[39m\u001b[38;5;124m\"\u001b[39m\n\u001b[0;32m    650\u001b[0m         \u001b[38;5;124mf\u001b[39m\u001b[38;5;124m\"\u001b[39m\u001b[38;5;124mwas expecting \u001b[39m\u001b[38;5;132;01m{\u001b[39;00m\u001b[38;5;28mlen\u001b[39m(layer_weights)\u001b[38;5;132;01m}\u001b[39;00m\u001b[38;5;124m weights.\u001b[39m\u001b[38;5;124m\"\u001b[39m\n\u001b[0;32m    651\u001b[0m     )\n\u001b[0;32m    652\u001b[0m \u001b[38;5;28;01mfor\u001b[39;00m variable, value \u001b[38;5;129;01min\u001b[39;00m \u001b[38;5;28mzip\u001b[39m(layer_weights, weights):\n\u001b[0;32m    653\u001b[0m     \u001b[38;5;28;01mif\u001b[39;00m variable\u001b[38;5;241m.\u001b[39mshape \u001b[38;5;241m!=\u001b[39m value\u001b[38;5;241m.\u001b[39mshape:\n",
      "\u001b[1;31mValueError\u001b[0m: You called `set_weights(weights)` on layer 'embedding_15' with a weight list of length 1, but the layer was expecting 0 weights."
     ]
    }
   ],
   "source": [
    "# Build the LSTM model\n",
    "model = Sequential()\n",
    "\n",
    "# Initialize Embedding layer without input_length\n",
    "embedding_layer = Embedding(input_dim=len(word_index) + 1, \n",
    "                            output_dim=embedding_dim)\n",
    "\n",
    "model.add(embedding_layer)\n",
    "model.add(SpatialDropout1D(0.2))\n",
    "model.add(LSTM(units=128, dropout=0.2, recurrent_dropout=0.2, return_sequences=True))\n",
    "model.add(LSTM(units=64, dropout=0.2, recurrent_dropout=0.2))\n",
    "model.add(Dense(units=1, activation='sigmoid'))\n",
    "\n",
    "# Set weights for the Embedding layer\n",
    "embedding_layer.set_weights([embedding_matrix])\n",
    "embedding_layer.trainable = False  # Freeze the embedding layer\n",
    "\n",
    "# Compile the model\n",
    "model.compile(optimizer='adam', loss='binary_crossentropy', metrics=['accuracy'])\n",
    "\n",
    "# Display the model summary\n",
    "model.summary()\n"
   ]
  },
  {
   "cell_type": "code",
   "execution_count": 187,
   "id": "11ae07eb-ba3a-438c-97a4-d4767af07e02",
   "metadata": {},
   "outputs": [
    {
     "ename": "ValueError",
     "evalue": "Unrecognized keyword arguments passed to Embedding: {'weights': [array([[ 0.        ,  0.        ,  0.        , ...,  0.        ,\n         0.        ,  0.        ],\n       [ 0.11302   ,  0.51802999, -0.61565   , ...,  0.34717   ,\n        -0.21518999, -0.13248999],\n       [-0.013786  ,  0.38216001,  0.53236002, ..., -1.04260004,\n         0.28854999,  0.63055998],\n       ...,\n       [ 0.        ,  0.        ,  0.        , ...,  0.        ,\n         0.        ,  0.        ],\n       [ 0.        ,  0.        ,  0.        , ...,  0.        ,\n         0.        ,  0.        ],\n       [ 0.16805001,  0.27202001, -0.11403   , ..., -0.14866   ,\n        -0.26578   ,  0.071097  ]])], 'input_length': 100}",
     "output_type": "error",
     "traceback": [
      "\u001b[1;31m---------------------------------------------------------------------------\u001b[0m",
      "\u001b[1;31mValueError\u001b[0m                                Traceback (most recent call last)",
      "Cell \u001b[1;32mIn[187], line 3\u001b[0m\n\u001b[0;32m      1\u001b[0m \u001b[38;5;66;03m# Build the LSTM model\u001b[39;00m\n\u001b[0;32m      2\u001b[0m model \u001b[38;5;241m=\u001b[39m Sequential()\n\u001b[1;32m----> 3\u001b[0m model\u001b[38;5;241m.\u001b[39madd(Embedding(input_dim\u001b[38;5;241m=\u001b[39m\u001b[38;5;28mlen\u001b[39m(word_index) \u001b[38;5;241m+\u001b[39m \u001b[38;5;241m1\u001b[39m, \n\u001b[0;32m      4\u001b[0m                     output_dim\u001b[38;5;241m=\u001b[39membedding_dim, \n\u001b[0;32m      5\u001b[0m                     weights\u001b[38;5;241m=\u001b[39m[embedding_matrix], \n\u001b[0;32m      6\u001b[0m                     input_length\u001b[38;5;241m=\u001b[39mmaxlen, \n\u001b[0;32m      7\u001b[0m                     trainable\u001b[38;5;241m=\u001b[39m\u001b[38;5;28;01mFalse\u001b[39;00m))  \u001b[38;5;66;03m# Use pre-trained embeddings\u001b[39;00m\n\u001b[0;32m      8\u001b[0m model\u001b[38;5;241m.\u001b[39madd(SpatialDropout1D(\u001b[38;5;241m0.2\u001b[39m))\n\u001b[0;32m      9\u001b[0m model\u001b[38;5;241m.\u001b[39madd(LSTM(units\u001b[38;5;241m=\u001b[39m\u001b[38;5;241m128\u001b[39m, dropout\u001b[38;5;241m=\u001b[39m\u001b[38;5;241m0.2\u001b[39m, recurrent_dropout\u001b[38;5;241m=\u001b[39m\u001b[38;5;241m0.2\u001b[39m, return_sequences\u001b[38;5;241m=\u001b[39m\u001b[38;5;28;01mTrue\u001b[39;00m))\n",
      "File \u001b[1;32m~\\anaconda3\\Lib\\site-packages\\keras\\src\\layers\\core\\embedding.py:81\u001b[0m, in \u001b[0;36mEmbedding.__init__\u001b[1;34m(self, input_dim, output_dim, embeddings_initializer, embeddings_regularizer, embeddings_constraint, mask_zero, lora_rank, **kwargs)\u001b[0m\n\u001b[0;32m     70\u001b[0m \u001b[38;5;28;01mdef\u001b[39;00m \u001b[38;5;21m__init__\u001b[39m(\n\u001b[0;32m     71\u001b[0m     \u001b[38;5;28mself\u001b[39m,\n\u001b[0;32m     72\u001b[0m     input_dim,\n\u001b[1;32m   (...)\u001b[0m\n\u001b[0;32m     79\u001b[0m     \u001b[38;5;241m*\u001b[39m\u001b[38;5;241m*\u001b[39mkwargs,\n\u001b[0;32m     80\u001b[0m ):\n\u001b[1;32m---> 81\u001b[0m     \u001b[38;5;28msuper\u001b[39m()\u001b[38;5;241m.\u001b[39m\u001b[38;5;21m__init__\u001b[39m(\u001b[38;5;241m*\u001b[39m\u001b[38;5;241m*\u001b[39mkwargs)\n\u001b[0;32m     82\u001b[0m     \u001b[38;5;28mself\u001b[39m\u001b[38;5;241m.\u001b[39minput_dim \u001b[38;5;241m=\u001b[39m input_dim\n\u001b[0;32m     83\u001b[0m     \u001b[38;5;28mself\u001b[39m\u001b[38;5;241m.\u001b[39moutput_dim \u001b[38;5;241m=\u001b[39m output_dim\n",
      "File \u001b[1;32m~\\anaconda3\\Lib\\site-packages\\keras\\src\\layers\\layer.py:265\u001b[0m, in \u001b[0;36mLayer.__init__\u001b[1;34m(self, activity_regularizer, trainable, dtype, autocast, name, **kwargs)\u001b[0m\n\u001b[0;32m    263\u001b[0m     \u001b[38;5;28mself\u001b[39m\u001b[38;5;241m.\u001b[39m_input_shape_arg \u001b[38;5;241m=\u001b[39m input_shape_arg\n\u001b[0;32m    264\u001b[0m \u001b[38;5;28;01mif\u001b[39;00m kwargs:\n\u001b[1;32m--> 265\u001b[0m     \u001b[38;5;28;01mraise\u001b[39;00m \u001b[38;5;167;01mValueError\u001b[39;00m(\n\u001b[0;32m    266\u001b[0m         \u001b[38;5;124m\"\u001b[39m\u001b[38;5;124mUnrecognized keyword arguments \u001b[39m\u001b[38;5;124m\"\u001b[39m\n\u001b[0;32m    267\u001b[0m         \u001b[38;5;124mf\u001b[39m\u001b[38;5;124m\"\u001b[39m\u001b[38;5;124mpassed to \u001b[39m\u001b[38;5;132;01m{\u001b[39;00m\u001b[38;5;28mself\u001b[39m\u001b[38;5;241m.\u001b[39m\u001b[38;5;18m__class__\u001b[39m\u001b[38;5;241m.\u001b[39m\u001b[38;5;18m__name__\u001b[39m\u001b[38;5;132;01m}\u001b[39;00m\u001b[38;5;124m: \u001b[39m\u001b[38;5;132;01m{\u001b[39;00mkwargs\u001b[38;5;132;01m}\u001b[39;00m\u001b[38;5;124m\"\u001b[39m\n\u001b[0;32m    268\u001b[0m     )\n\u001b[0;32m    270\u001b[0m \u001b[38;5;28mself\u001b[39m\u001b[38;5;241m.\u001b[39mbuilt \u001b[38;5;241m=\u001b[39m \u001b[38;5;28;01mFalse\u001b[39;00m\n\u001b[0;32m    271\u001b[0m \u001b[38;5;28mself\u001b[39m\u001b[38;5;241m.\u001b[39mdtype_policy \u001b[38;5;241m=\u001b[39m dtype_policies\u001b[38;5;241m.\u001b[39mget(dtype)\n",
      "\u001b[1;31mValueError\u001b[0m: Unrecognized keyword arguments passed to Embedding: {'weights': [array([[ 0.        ,  0.        ,  0.        , ...,  0.        ,\n         0.        ,  0.        ],\n       [ 0.11302   ,  0.51802999, -0.61565   , ...,  0.34717   ,\n        -0.21518999, -0.13248999],\n       [-0.013786  ,  0.38216001,  0.53236002, ..., -1.04260004,\n         0.28854999,  0.63055998],\n       ...,\n       [ 0.        ,  0.        ,  0.        , ...,  0.        ,\n         0.        ,  0.        ],\n       [ 0.        ,  0.        ,  0.        , ...,  0.        ,\n         0.        ,  0.        ],\n       [ 0.16805001,  0.27202001, -0.11403   , ..., -0.14866   ,\n        -0.26578   ,  0.071097  ]])], 'input_length': 100}"
     ]
    }
   ],
   "source": [
    "\n",
    "# Compile the model\n",
    "model.compile(optimizer=Adam(learning_rate=0.001), loss='binary_crossentropy', metrics=['accuracy'])\n",
    "\n",
    "# Train the model\n",
    "early_stopping = EarlyStopping(monitor='val_loss', patience=3, restore_best_weights=True)\n",
    "history = model.fit(X_train_padded, y_train, epochs=10, batch_size=64, validation_split=0.2, callbacks=[early_stopping])\n",
    "\n",
    "# Evaluate the model\n",
    "loss, accuracy = model.evaluate(X_test_padded, y_test)\n",
    "print(f'Test Loss: {loss}')\n",
    "print(f'Test Accuracy: {accuracy}')\n"
   ]
  },
  {
   "cell_type": "code",
   "execution_count": null,
   "id": "0a2858b4-7628-470f-b67b-6b786381f8bc",
   "metadata": {},
   "outputs": [],
   "source": []
  },
  {
   "cell_type": "code",
   "execution_count": null,
   "id": "e4f69b4f-0637-4201-82e8-547a27ebd500",
   "metadata": {},
   "outputs": [],
   "source": []
  },
  {
   "cell_type": "code",
   "execution_count": 184,
   "id": "0d7b11b3-f269-4837-85d7-bbcf033a6569",
   "metadata": {},
   "outputs": [
    {
     "ename": "ValueError",
     "evalue": "Unrecognized keyword arguments passed to Embedding: {'weights': [array([[ 0.        ,  0.        ,  0.        , ...,  0.        ,\n         0.        ,  0.        ],\n       [ 0.11302   ,  0.51802999, -0.61565   , ...,  0.34717   ,\n        -0.21518999, -0.13248999],\n       [-0.013786  ,  0.38216001,  0.53236002, ..., -1.04260004,\n         0.28854999,  0.63055998],\n       ...,\n       [ 0.        ,  0.        ,  0.        , ...,  0.        ,\n         0.        ,  0.        ],\n       [ 0.        ,  0.        ,  0.        , ...,  0.        ,\n         0.        ,  0.        ],\n       [ 0.16805001,  0.27202001, -0.11403   , ..., -0.14866   ,\n        -0.26578   ,  0.071097  ]])], 'input_length': 100}",
     "output_type": "error",
     "traceback": [
      "\u001b[1;31m---------------------------------------------------------------------------\u001b[0m",
      "\u001b[1;31mValueError\u001b[0m                                Traceback (most recent call last)",
      "Cell \u001b[1;32mIn[184], line 6\u001b[0m\n\u001b[0;32m      4\u001b[0m \u001b[38;5;66;03m# Build the LSTM model\u001b[39;00m\n\u001b[0;32m      5\u001b[0m model \u001b[38;5;241m=\u001b[39m Sequential()\n\u001b[1;32m----> 6\u001b[0m model\u001b[38;5;241m.\u001b[39madd(Embedding(input_dim\u001b[38;5;241m=\u001b[39mvocab_length, \n\u001b[0;32m      7\u001b[0m                     output_dim\u001b[38;5;241m=\u001b[39membedding_dim, \n\u001b[0;32m      8\u001b[0m                     weights\u001b[38;5;241m=\u001b[39m[embedding_matrix], \n\u001b[0;32m      9\u001b[0m                     input_length\u001b[38;5;241m=\u001b[39mmaxlen, \n\u001b[0;32m     10\u001b[0m                     trainable\u001b[38;5;241m=\u001b[39m\u001b[38;5;28;01mFalse\u001b[39;00m))  \u001b[38;5;66;03m# Use pre-trained embeddings\u001b[39;00m\n\u001b[0;32m     11\u001b[0m model\u001b[38;5;241m.\u001b[39madd(SpatialDropout1D(\u001b[38;5;241m0.2\u001b[39m))\n\u001b[0;32m     12\u001b[0m model\u001b[38;5;241m.\u001b[39madd(LSTM(units\u001b[38;5;241m=\u001b[39m\u001b[38;5;241m128\u001b[39m, dropout\u001b[38;5;241m=\u001b[39m\u001b[38;5;241m0.2\u001b[39m, recurrent_dropout\u001b[38;5;241m=\u001b[39m\u001b[38;5;241m0.2\u001b[39m, return_sequences\u001b[38;5;241m=\u001b[39m\u001b[38;5;28;01mTrue\u001b[39;00m))\n",
      "File \u001b[1;32m~\\anaconda3\\Lib\\site-packages\\keras\\src\\layers\\core\\embedding.py:81\u001b[0m, in \u001b[0;36mEmbedding.__init__\u001b[1;34m(self, input_dim, output_dim, embeddings_initializer, embeddings_regularizer, embeddings_constraint, mask_zero, lora_rank, **kwargs)\u001b[0m\n\u001b[0;32m     70\u001b[0m \u001b[38;5;28;01mdef\u001b[39;00m \u001b[38;5;21m__init__\u001b[39m(\n\u001b[0;32m     71\u001b[0m     \u001b[38;5;28mself\u001b[39m,\n\u001b[0;32m     72\u001b[0m     input_dim,\n\u001b[1;32m   (...)\u001b[0m\n\u001b[0;32m     79\u001b[0m     \u001b[38;5;241m*\u001b[39m\u001b[38;5;241m*\u001b[39mkwargs,\n\u001b[0;32m     80\u001b[0m ):\n\u001b[1;32m---> 81\u001b[0m     \u001b[38;5;28msuper\u001b[39m()\u001b[38;5;241m.\u001b[39m\u001b[38;5;21m__init__\u001b[39m(\u001b[38;5;241m*\u001b[39m\u001b[38;5;241m*\u001b[39mkwargs)\n\u001b[0;32m     82\u001b[0m     \u001b[38;5;28mself\u001b[39m\u001b[38;5;241m.\u001b[39minput_dim \u001b[38;5;241m=\u001b[39m input_dim\n\u001b[0;32m     83\u001b[0m     \u001b[38;5;28mself\u001b[39m\u001b[38;5;241m.\u001b[39moutput_dim \u001b[38;5;241m=\u001b[39m output_dim\n",
      "File \u001b[1;32m~\\anaconda3\\Lib\\site-packages\\keras\\src\\layers\\layer.py:265\u001b[0m, in \u001b[0;36mLayer.__init__\u001b[1;34m(self, activity_regularizer, trainable, dtype, autocast, name, **kwargs)\u001b[0m\n\u001b[0;32m    263\u001b[0m     \u001b[38;5;28mself\u001b[39m\u001b[38;5;241m.\u001b[39m_input_shape_arg \u001b[38;5;241m=\u001b[39m input_shape_arg\n\u001b[0;32m    264\u001b[0m \u001b[38;5;28;01mif\u001b[39;00m kwargs:\n\u001b[1;32m--> 265\u001b[0m     \u001b[38;5;28;01mraise\u001b[39;00m \u001b[38;5;167;01mValueError\u001b[39;00m(\n\u001b[0;32m    266\u001b[0m         \u001b[38;5;124m\"\u001b[39m\u001b[38;5;124mUnrecognized keyword arguments \u001b[39m\u001b[38;5;124m\"\u001b[39m\n\u001b[0;32m    267\u001b[0m         \u001b[38;5;124mf\u001b[39m\u001b[38;5;124m\"\u001b[39m\u001b[38;5;124mpassed to \u001b[39m\u001b[38;5;132;01m{\u001b[39;00m\u001b[38;5;28mself\u001b[39m\u001b[38;5;241m.\u001b[39m\u001b[38;5;18m__class__\u001b[39m\u001b[38;5;241m.\u001b[39m\u001b[38;5;18m__name__\u001b[39m\u001b[38;5;132;01m}\u001b[39;00m\u001b[38;5;124m: \u001b[39m\u001b[38;5;132;01m{\u001b[39;00mkwargs\u001b[38;5;132;01m}\u001b[39;00m\u001b[38;5;124m\"\u001b[39m\n\u001b[0;32m    268\u001b[0m     )\n\u001b[0;32m    270\u001b[0m \u001b[38;5;28mself\u001b[39m\u001b[38;5;241m.\u001b[39mbuilt \u001b[38;5;241m=\u001b[39m \u001b[38;5;28;01mFalse\u001b[39;00m\n\u001b[0;32m    271\u001b[0m \u001b[38;5;28mself\u001b[39m\u001b[38;5;241m.\u001b[39mdtype_policy \u001b[38;5;241m=\u001b[39m dtype_policies\u001b[38;5;241m.\u001b[39mget(dtype)\n",
      "\u001b[1;31mValueError\u001b[0m: Unrecognized keyword arguments passed to Embedding: {'weights': [array([[ 0.        ,  0.        ,  0.        , ...,  0.        ,\n         0.        ,  0.        ],\n       [ 0.11302   ,  0.51802999, -0.61565   , ...,  0.34717   ,\n        -0.21518999, -0.13248999],\n       [-0.013786  ,  0.38216001,  0.53236002, ..., -1.04260004,\n         0.28854999,  0.63055998],\n       ...,\n       [ 0.        ,  0.        ,  0.        , ...,  0.        ,\n         0.        ,  0.        ],\n       [ 0.        ,  0.        ,  0.        , ...,  0.        ,\n         0.        ,  0.        ],\n       [ 0.16805001,  0.27202001, -0.11403   , ..., -0.14866   ,\n        -0.26578   ,  0.071097  ]])], 'input_length': 100}"
     ]
    }
   ],
   "source": [
    "# from tensorflow.keras.models import Sequential\n",
    "# from tensorflow.keras.layers import Embedding, LSTM, Dense, Dropout, SpatialDropout1D\n",
    "\n",
    "# # Build the LSTM model\n",
    "# model = Sequential()\n",
    "# model.add(Embedding(input_dim=vocab_length, \n",
    "#                     output_dim=embedding_dim, \n",
    "#                     weights=[embedding_matrix], \n",
    "#                     input_length=maxlen, \n",
    "#                     trainable=False))  # Use pre-trained embeddings\n",
    "# model.add(SpatialDropout1D(0.2))\n",
    "# model.add(LSTM(units=128, dropout=0.2, recurrent_dropout=0.2, return_sequences=True))\n",
    "# model.add(LSTM(units=64, dropout=0.2, recurrent_dropout=0.2))\n",
    "# model.add(Dense(units=1, activation='sigmoid'))\n",
    "\n",
    "# # Compile the model\n",
    "# model.compile(optimizer=Adam(learning_rate=0.001), loss='binary_crossentropy', metrics=['accuracy'])\n",
    "\n",
    "# # Train the model\n",
    "# early_stopping = EarlyStopping(monitor='val_loss', patience=3, restore_best_weights=True)\n",
    "# history = model.fit(X_train_padded, y_train, epochs=10, batch_size=64, validation_split=0.2, callbacks=[early_stopping])\n"
   ]
  },
  {
   "cell_type": "code",
   "execution_count": 185,
   "id": "5db64d38-6dab-4ec1-b797-9b9f11576059",
   "metadata": {},
   "outputs": [],
   "source": [
    "\n",
    "# Compile the model\n",
    "# model.compile(optimizer=Adam(learning_rate=0.001), loss='binary_crossentropy', metrics=['accuracy'])\n"
   ]
  },
  {
   "cell_type": "code",
   "execution_count": 164,
   "id": "d680140a-ab3d-4a46-a802-be69e3f43ad8",
   "metadata": {},
   "outputs": [],
   "source": [
    " # Define early stopping\n",
    "# early_stopping = EarlyStopping(monitor='val_loss', patience=3, restore_best_weights=True)\n"
   ]
  },
  {
   "cell_type": "code",
   "execution_count": 186,
   "id": "e8d10cca-ca5a-44d1-b0c6-93a157ea4ed4",
   "metadata": {},
   "outputs": [],
   "source": [
    "# Train the model\n",
    " # Train the model\n",
    "# history = model.fit(X_train_padded, y_train, epochs=10, batch_size=64, validation_split=0.2, callbacks=[early_stopping])\n"
   ]
  },
  {
   "cell_type": "code",
   "execution_count": null,
   "id": "c63b3f5e-137b-4dbc-9329-1fbc44626921",
   "metadata": {},
   "outputs": [],
   "source": [
    "# Evaluate the model\n",
    "loss, accuracy = model.evaluate(X_test_padded, y_test)\n",
    "print(f'Test Loss: {loss}')\n",
    "print(f'Test Accuracy: {accuracy}')\n"
   ]
  },
  {
   "cell_type": "code",
   "execution_count": null,
   "id": "64ef470c-f012-4419-9a11-b59c1f0cb826",
   "metadata": {},
   "outputs": [],
   "source": []
  },
  {
   "cell_type": "code",
   "execution_count": null,
   "id": "1f6c2d6c-23b0-41d7-b042-e07a1b36c589",
   "metadata": {},
   "outputs": [],
   "source": []
  },
  {
   "cell_type": "code",
   "execution_count": null,
   "id": "707b64b5-c949-4473-95a9-772e40fd6ee1",
   "metadata": {},
   "outputs": [],
   "source": [
    "from tensorflow.keras.models import Sequential\n",
    "from tensorflow.keras.layers import Embedding, LSTM, Dense, Dropout, SpatialDropout1D\n",
    "\n",
    "# Build the LSTM model\n",
    "model = Sequential()\n",
    "model.add(Embedding(input_dim=vocab_length, \n",
    "                    output_dim=embedding_dim, \n",
    "                    weights=[embedding_matrix], \n",
    "                    input_length=maxlen, \n",
    "                    trainable=False))  # Use pre-trained embeddings\n",
    "model.add(SpatialDropout1D(0.2))\n",
    "model.add(LSTM(units=128, dropout=0.2, recurrent_dropout=0.2, return_sequences=True))\n",
    "model.add(LSTM(units=64, dropout=0.2, recurrent_dropout=0.2))\n",
    "model.add(Dense(units=1, activation='sigmoid'))\n",
    "\n",
    "# Compile the model\n",
    "model.compile(optimizer=Adam(learning_rate=0.001), loss='binary_crossentropy', metrics=['accuracy'])\n",
    "\n",
    "# Train the model\n",
    "early_stopping = EarlyStopping(monitor='val_loss', patience=3, restore_best_weights=True)\n",
    "history = model.fit(X_train_padded, y_train, epochs=10, batch_size=64, validation_split=0.2, callbacks=[early_stopping])\n",
    "\n",
    "# Evaluate the model\n",
    "loss, accuracy = model.evaluate(X_test_padded, y_test)\n",
    "print(f'Test Loss: {loss}')\n",
    "print(f'Test Accuracy: {accuracy}')\n",
    "\n",
    "# Plot training history\n",
    "import matplotlib.pyplot as plt\n",
    "\n",
    "plt.plot(history.history['accuracy'], label='accuracy')\n",
    "plt.plot(history.history['val_accuracy'], label = 'val_accuracy')\n",
    "plt.xlabel('Epoch')\n",
    "plt.ylabel('Accuracy')\n",
    "plt.ylim([0, 1])\n",
    "plt.legend(loc='lower right')\n",
    "plt.show()\n",
    "\n",
    "plt.plot(history.history['loss'], label='loss')\n",
    "plt.plot(history.history['val_loss'], label = 'val_loss')\n",
    "plt.xlabel('Epoch')\n",
    "plt.ylabel('Loss')\n",
    "plt.legend(loc='upper right')\n",
    "plt.show()\n"
   ]
  }
 ],
 "metadata": {
  "kernelspec": {
   "display_name": "Python 3 (ipykernel)",
   "language": "python",
   "name": "python3"
  },
  "language_info": {
   "codemirror_mode": {
    "name": "ipython",
    "version": 3
   },
   "file_extension": ".py",
   "mimetype": "text/x-python",
   "name": "python",
   "nbconvert_exporter": "python",
   "pygments_lexer": "ipython3",
   "version": "3.11.7"
  }
 },
 "nbformat": 4,
 "nbformat_minor": 5
}
